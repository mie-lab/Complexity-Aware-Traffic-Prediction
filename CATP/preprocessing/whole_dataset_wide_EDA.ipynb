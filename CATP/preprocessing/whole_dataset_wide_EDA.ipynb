{
 "cells": [
  {
   "cell_type": "code",
   "execution_count": 1,
   "id": "615274c4-49ff-48a4-a97f-b9cb8dec6bd0",
   "metadata": {},
   "outputs": [],
   "source": [
    "import os\n",
    "import sys\n",
    "\n",
    "# os.path.join(os.path.dirname(__file__)\n",
    "sys.path.append(\"../\")  # location of config file\n",
    "sys.path.append(\"../../\") # working directory inside exploration\n",
    "sys.path.append(\"../../../\") \n",
    "\n",
    "\n",
    "\n",
    "import config\n",
    "\n",
    "os.chdir(\"../../\")\n",
    "\n",
    "import glob\n",
    "import numpy as np\n",
    "from smartprint import smartprint as sprint\n",
    "from preprocessing.ProcessRaw import ProcessRaw\n",
    "from smartprint import smartprint as sprint\n",
    "import random\n",
    "from tqdm import tqdm\n",
    "import matplotlib.pyplot as plt"
   ]
  },
  {
   "cell_type": "code",
   "execution_count": 7,
   "id": "1b1b1d6f-cee7-4b2f-81ca-7968f590f1c3",
   "metadata": {},
   "outputs": [],
   "source": [
    "# ! rm -rf dist_plots\n",
    "# ! mkdir dist_plots"
   ]
  },
  {
   "cell_type": "code",
   "execution_count": null,
   "id": "04ba516a-ee88-45ca-a31c-a5e89c74e79a",
   "metadata": {},
   "outputs": [
    {
     "name": "stderr",
     "output_type": "stream",
     "text": [
      "london_45_days processed:  91%|█████████▏| 215/235 [00:00<00:00, 18828.57it/s]\n"
     ]
    },
    {
     "name": "stdout",
     "output_type": "stream",
     "text": [
      "start_date, end_date : 2020-02-01 2020-01-31\n",
      "\"Reached end of dates, skipping....Total #dates processed=\", len(dates) : Reached end of dates, skipping....Total #dates processed= 215\n"
     ]
    },
    {
     "name": "stderr",
     "output_type": "stream",
     "text": [
      "/home/niskumar/NeurIPS2022-traffic4cast/train_data_all_cities/london-1-1-45-:   0%|          | 0/215 [00:00<?, ?it/s]\n",
      "computing distance to                                        random neighbours: 100%|██████████| 95/95 [00:00<00:00, 4822.61it/s]\n",
      "computing distance to                                        random neighbours: 100%|██████████| 16558/16558 [00:03<00:00, 4939.54it/s]\n",
      "london_45_days processed:  91%|█████████▏| 215/235 [00:00<00:00, 10429.49it/s]\n"
     ]
    },
    {
     "name": "stdout",
     "output_type": "stream",
     "text": [
      "start_date, end_date : 2020-02-01 2020-01-31\n",
      "\"Reached end of dates, skipping....Total #dates processed=\", len(dates) : Reached end of dates, skipping....Total #dates processed= 215\n"
     ]
    },
    {
     "name": "stderr",
     "output_type": "stream",
     "text": [
      "/home/niskumar/NeurIPS2022-traffic4cast/train_data_all_cities/london-1-1-45-:   0%|          | 0/215 [00:00<?, ?it/s]\n",
      "computing distance to                                        random neighbours: 100%|██████████| 191/191 [00:00<00:00, 4917.78it/s]\n",
      "computing distance to                                        random neighbours: 100%|██████████| 16558/16558 [00:03<00:00, 4968.65it/s]\n",
      "london_45_days processed:  91%|█████████▏| 215/235 [00:00<00:00, 19005.15it/s]\n"
     ]
    },
    {
     "name": "stdout",
     "output_type": "stream",
     "text": [
      "start_date, end_date : 2020-02-01 2020-01-31\n",
      "\"Reached end of dates, skipping....Total #dates processed=\", len(dates) : Reached end of dates, skipping....Total #dates processed= 215\n"
     ]
    },
    {
     "name": "stderr",
     "output_type": "stream",
     "text": [
      "/home/niskumar/NeurIPS2022-traffic4cast/train_data_all_cities/london-1-1-45-:   0%|          | 0/215 [00:00<?, ?it/s]\n",
      "computing distance to                                        random neighbours: 100%|██████████| 287/287 [00:00<00:00, 4870.09it/s]\n",
      "computing distance to                                        random neighbours: 100%|██████████| 16558/16558 [00:03<00:00, 4987.96it/s]\n",
      "london_45_days processed:  91%|█████████▏| 215/235 [00:00<00:00, 18430.66it/s]\n"
     ]
    },
    {
     "name": "stdout",
     "output_type": "stream",
     "text": [
      "start_date, end_date : 2020-02-01 2020-01-31\n",
      "\"Reached end of dates, skipping....Total #dates processed=\", len(dates) : Reached end of dates, skipping....Total #dates processed= 215\n"
     ]
    },
    {
     "name": "stderr",
     "output_type": "stream",
     "text": [
      "/home/niskumar/NeurIPS2022-traffic4cast/train_data_all_cities/london-1-1-45-:   0%|          | 0/215 [00:00<?, ?it/s]\n",
      "computing distance to                                        random neighbours: 100%|██████████| 383/383 [00:00<00:00, 4896.83it/s]\n",
      "computing distance to                                        random neighbours: 100%|██████████| 16558/16558 [00:03<00:00, 4960.01it/s]\n",
      "london_45_days processed:  91%|█████████▏| 215/235 [00:00<00:00, 17538.47it/s]\n"
     ]
    },
    {
     "name": "stdout",
     "output_type": "stream",
     "text": [
      "start_date, end_date : 2020-02-01 2020-01-31\n",
      "\"Reached end of dates, skipping....Total #dates processed=\", len(dates) : Reached end of dates, skipping....Total #dates processed= 215\n"
     ]
    },
    {
     "name": "stderr",
     "output_type": "stream",
     "text": [
      "/home/niskumar/NeurIPS2022-traffic4cast/train_data_all_cities/london-1-1-45-:   0%|          | 0/215 [00:00<?, ?it/s]\n",
      "computing distance to                                        random neighbours: 100%|██████████| 479/479 [00:00<00:00, 4893.75it/s]\n",
      "computing distance to                                        random neighbours: 100%|██████████| 16558/16558 [00:03<00:00, 4951.80it/s]\n",
      "london_45_days processed:  91%|█████████▏| 215/235 [00:00<00:00, 18526.46it/s]\n"
     ]
    },
    {
     "name": "stdout",
     "output_type": "stream",
     "text": [
      "start_date, end_date : 2020-02-01 2020-01-31\n",
      "\"Reached end of dates, skipping....Total #dates processed=\", len(dates) : Reached end of dates, skipping....Total #dates processed= 215\n"
     ]
    },
    {
     "name": "stderr",
     "output_type": "stream",
     "text": [
      "/home/niskumar/NeurIPS2022-traffic4cast/train_data_all_cities/london-1-1-45-:   0%|          | 0/215 [00:00<?, ?it/s]\n",
      "computing distance to                                        random neighbours: 100%|██████████| 575/575 [00:00<00:00, 4887.93it/s]\n",
      "computing distance to                                        random neighbours: 100%|██████████| 16558/16558 [00:03<00:00, 4973.99it/s]\n",
      "london_45_days processed:  91%|█████████▏| 215/235 [00:00<00:00, 18180.22it/s]\n"
     ]
    },
    {
     "name": "stdout",
     "output_type": "stream",
     "text": [
      "start_date, end_date : 2020-02-01 2020-01-31\n",
      "\"Reached end of dates, skipping....Total #dates processed=\", len(dates) : Reached end of dates, skipping....Total #dates processed= 215\n"
     ]
    },
    {
     "name": "stderr",
     "output_type": "stream",
     "text": [
      "/home/niskumar/NeurIPS2022-traffic4cast/train_data_all_cities/london-1-1-45-:   0%|          | 0/215 [00:00<?, ?it/s]\n",
      "computing distance to                                        random neighbours: 100%|██████████| 671/671 [00:00<00:00, 4837.48it/s]\n",
      "computing distance to                                        random neighbours: 100%|██████████| 16558/16558 [00:03<00:00, 4915.35it/s]\n",
      "london_45_days processed:  91%|█████████▏| 215/235 [00:00<00:00, 18256.41it/s]\n"
     ]
    },
    {
     "name": "stdout",
     "output_type": "stream",
     "text": [
      "start_date, end_date : 2020-02-01 2020-01-31\n",
      "\"Reached end of dates, skipping....Total #dates processed=\", len(dates) : Reached end of dates, skipping....Total #dates processed= 215\n"
     ]
    },
    {
     "name": "stderr",
     "output_type": "stream",
     "text": [
      "/home/niskumar/NeurIPS2022-traffic4cast/train_data_all_cities/london-1-1-45-:   0%|          | 0/215 [00:00<?, ?it/s]\n",
      "computing distance to                                        random neighbours: 100%|██████████| 767/767 [00:00<00:00, 4921.53it/s]\n",
      "computing distance to                                        random neighbours: 100%|██████████| 16558/16558 [00:03<00:00, 4991.96it/s]\n",
      "london_45_days processed:  91%|█████████▏| 215/235 [00:00<00:00, 18217.32it/s]\n"
     ]
    },
    {
     "name": "stdout",
     "output_type": "stream",
     "text": [
      "start_date, end_date : 2020-02-01 2020-01-31\n",
      "\"Reached end of dates, skipping....Total #dates processed=\", len(dates) : Reached end of dates, skipping....Total #dates processed= 215\n"
     ]
    },
    {
     "name": "stderr",
     "output_type": "stream",
     "text": [
      "/home/niskumar/NeurIPS2022-traffic4cast/train_data_all_cities/london-1-1-45-:   0%|          | 0/215 [00:00<?, ?it/s]\n",
      "computing distance to                                        random neighbours: 100%|██████████| 863/863 [00:00<00:00, 4958.21it/s]\n",
      "computing distance to                                        random neighbours: 100%|██████████| 16558/16558 [00:03<00:00, 4969.60it/s]\n",
      "london_45_days processed:  91%|█████████▏| 215/235 [00:00<00:00, 18175.46it/s]\n"
     ]
    },
    {
     "name": "stdout",
     "output_type": "stream",
     "text": [
      "start_date, end_date : 2020-02-01 2020-01-31\n",
      "\"Reached end of dates, skipping....Total #dates processed=\", len(dates) : Reached end of dates, skipping....Total #dates processed= 215\n"
     ]
    },
    {
     "name": "stderr",
     "output_type": "stream",
     "text": [
      "/home/niskumar/NeurIPS2022-traffic4cast/train_data_all_cities/london-1-1-45-:   0%|          | 0/215 [00:00<?, ?it/s]\n",
      "computing distance to                                        random neighbours: 100%|██████████| 959/959 [00:00<00:00, 4990.58it/s]\n",
      "computing distance to                                        random neighbours: 100%|██████████| 16558/16558 [00:03<00:00, 5012.84it/s]\n",
      "london_45_days processed:  91%|█████████▏| 215/235 [00:00<00:00, 18375.08it/s]\n"
     ]
    },
    {
     "name": "stdout",
     "output_type": "stream",
     "text": [
      "start_date, end_date : 2020-02-01 2020-01-31\n",
      "\"Reached end of dates, skipping....Total #dates processed=\", len(dates) : Reached end of dates, skipping....Total #dates processed= 215\n"
     ]
    },
    {
     "name": "stderr",
     "output_type": "stream",
     "text": [
      "/home/niskumar/NeurIPS2022-traffic4cast/train_data_all_cities/london-1-1-45-:   0%|          | 0/215 [00:00<?, ?it/s]\n",
      "computing distance to                                        random neighbours: 100%|██████████| 1055/1055 [00:00<00:00, 4952.01it/s]\n",
      "computing distance to                                        random neighbours: 100%|██████████| 16558/16558 [00:03<00:00, 4957.28it/s]\n",
      "london_45_days processed:  91%|█████████▏| 215/235 [00:00<00:00, 18698.95it/s]\n"
     ]
    },
    {
     "name": "stdout",
     "output_type": "stream",
     "text": [
      "start_date, end_date : 2020-02-01 2020-01-31\n",
      "\"Reached end of dates, skipping....Total #dates processed=\", len(dates) : Reached end of dates, skipping....Total #dates processed= 215\n"
     ]
    },
    {
     "name": "stderr",
     "output_type": "stream",
     "text": [
      "/home/niskumar/NeurIPS2022-traffic4cast/train_data_all_cities/london-1-1-45-:   0%|          | 0/215 [00:00<?, ?it/s]\n",
      "computing distance to                                        random neighbours: 100%|██████████| 1151/1151 [00:00<00:00, 4934.32it/s]\n",
      "computing distance to                                        random neighbours: 100%|██████████| 16558/16558 [00:03<00:00, 4948.77it/s]\n",
      "london_45_days processed:  91%|█████████▏| 215/235 [00:00<00:00, 17789.30it/s]\n"
     ]
    },
    {
     "name": "stdout",
     "output_type": "stream",
     "text": [
      "start_date, end_date : 2020-02-01 2020-01-31\n",
      "\"Reached end of dates, skipping....Total #dates processed=\", len(dates) : Reached end of dates, skipping....Total #dates processed= 215\n"
     ]
    },
    {
     "name": "stderr",
     "output_type": "stream",
     "text": [
      "/home/niskumar/NeurIPS2022-traffic4cast/train_data_all_cities/london-1-1-45-:   0%|          | 0/215 [00:00<?, ?it/s]\n",
      "computing distance to                                        random neighbours: 100%|██████████| 1247/1247 [00:00<00:00, 4932.50it/s]\n",
      "computing distance to                                        random neighbours: 100%|██████████| 16558/16558 [00:03<00:00, 5001.39it/s]\n",
      "london_45_days processed:  91%|█████████▏| 215/235 [00:00<00:00, 17968.31it/s]\n"
     ]
    },
    {
     "name": "stdout",
     "output_type": "stream",
     "text": [
      "start_date, end_date : 2020-02-01 2020-01-31\n",
      "\"Reached end of dates, skipping....Total #dates processed=\", len(dates) : Reached end of dates, skipping....Total #dates processed= 215\n"
     ]
    },
    {
     "name": "stderr",
     "output_type": "stream",
     "text": [
      "/home/niskumar/NeurIPS2022-traffic4cast/train_data_all_cities/london-1-1-45-:   0%|          | 0/215 [00:00<?, ?it/s]\n",
      "computing distance to                                        random neighbours: 100%|██████████| 95/95 [00:00<00:00, 4574.99it/s]\n",
      "computing distance to                                        random neighbours: 100%|██████████| 16558/16558 [00:03<00:00, 4957.35it/s]\n",
      "london_45_days processed:  91%|█████████▏| 215/235 [00:00<00:00, 17823.06it/s]\n"
     ]
    },
    {
     "name": "stdout",
     "output_type": "stream",
     "text": [
      "start_date, end_date : 2020-02-01 2020-01-31\n",
      "\"Reached end of dates, skipping....Total #dates processed=\", len(dates) : Reached end of dates, skipping....Total #dates processed= 215\n"
     ]
    },
    {
     "name": "stderr",
     "output_type": "stream",
     "text": [
      "/home/niskumar/NeurIPS2022-traffic4cast/train_data_all_cities/london-1-1-45-:   0%|          | 0/215 [00:00<?, ?it/s]\n",
      "computing distance to                                        random neighbours: 100%|██████████| 191/191 [00:00<00:00, 4915.61it/s]\n",
      "computing distance to                                        random neighbours: 100%|██████████| 16558/16558 [00:03<00:00, 4935.06it/s]\n",
      "london_45_days processed:  91%|█████████▏| 215/235 [00:00<00:00, 17933.29it/s]\n"
     ]
    },
    {
     "name": "stdout",
     "output_type": "stream",
     "text": [
      "start_date, end_date : 2020-02-01 2020-01-31\n",
      "\"Reached end of dates, skipping....Total #dates processed=\", len(dates) : Reached end of dates, skipping....Total #dates processed= 215\n"
     ]
    },
    {
     "name": "stderr",
     "output_type": "stream",
     "text": [
      "/home/niskumar/NeurIPS2022-traffic4cast/train_data_all_cities/london-1-1-45-:   0%|          | 0/215 [00:00<?, ?it/s]\n",
      "computing distance to                                        random neighbours: 100%|██████████| 287/287 [00:00<00:00, 4965.84it/s]\n",
      "computing distance to                                        random neighbours: 100%|██████████| 16558/16558 [00:03<00:00, 5005.87it/s]\n",
      "london_45_days processed:  91%|█████████▏| 215/235 [00:00<00:00, 17563.40it/s]\n"
     ]
    },
    {
     "name": "stdout",
     "output_type": "stream",
     "text": [
      "start_date, end_date : 2020-02-01 2020-01-31\n",
      "\"Reached end of dates, skipping....Total #dates processed=\", len(dates) : Reached end of dates, skipping....Total #dates processed= 215\n"
     ]
    },
    {
     "name": "stderr",
     "output_type": "stream",
     "text": [
      "/home/niskumar/NeurIPS2022-traffic4cast/train_data_all_cities/london-1-1-45-:   0%|          | 0/215 [00:00<?, ?it/s]\n",
      "computing distance to                                        random neighbours: 100%|██████████| 383/383 [00:00<00:00, 4932.20it/s]\n",
      "computing distance to                                        random neighbours: 100%|██████████| 16558/16558 [00:03<00:00, 4982.62it/s]\n",
      "london_45_days processed:  91%|█████████▏| 215/235 [00:00<00:00, 18057.54it/s]\n"
     ]
    },
    {
     "name": "stdout",
     "output_type": "stream",
     "text": [
      "start_date, end_date : 2020-02-01 2020-01-31\n",
      "\"Reached end of dates, skipping....Total #dates processed=\", len(dates) : Reached end of dates, skipping....Total #dates processed= 215\n"
     ]
    },
    {
     "name": "stderr",
     "output_type": "stream",
     "text": [
      "/home/niskumar/NeurIPS2022-traffic4cast/train_data_all_cities/london-1-1-45-:   0%|          | 0/215 [00:00<?, ?it/s]\n",
      "computing distance to                                        random neighbours: 100%|██████████| 479/479 [00:00<00:00, 4975.31it/s]\n",
      "computing distance to                                        random neighbours: 100%|██████████| 16558/16558 [00:03<00:00, 4961.77it/s]\n",
      "london_45_days processed:  91%|█████████▏| 215/235 [00:00<00:00, 18472.57it/s]\n"
     ]
    },
    {
     "name": "stdout",
     "output_type": "stream",
     "text": [
      "start_date, end_date : 2020-02-01 2020-01-31\n",
      "\"Reached end of dates, skipping....Total #dates processed=\", len(dates) : Reached end of dates, skipping....Total #dates processed= 215\n"
     ]
    },
    {
     "name": "stderr",
     "output_type": "stream",
     "text": [
      "/home/niskumar/NeurIPS2022-traffic4cast/train_data_all_cities/london-1-1-45-:   0%|          | 0/215 [00:00<?, ?it/s]\n",
      "computing distance to                                        random neighbours: 100%|██████████| 575/575 [00:00<00:00, 4889.99it/s]\n",
      "computing distance to                                        random neighbours: 100%|██████████| 16558/16558 [00:03<00:00, 4966.50it/s]\n",
      "london_45_days processed:  91%|█████████▏| 215/235 [00:00<00:00, 18460.85it/s]\n"
     ]
    },
    {
     "name": "stdout",
     "output_type": "stream",
     "text": [
      "start_date, end_date : 2020-02-01 2020-01-31\n",
      "\"Reached end of dates, skipping....Total #dates processed=\", len(dates) : Reached end of dates, skipping....Total #dates processed= 215\n"
     ]
    },
    {
     "name": "stderr",
     "output_type": "stream",
     "text": [
      "/home/niskumar/NeurIPS2022-traffic4cast/train_data_all_cities/london-1-1-45-:   0%|          | 0/215 [00:00<?, ?it/s]\n",
      "computing distance to                                        random neighbours: 100%|██████████| 671/671 [00:00<00:00, 4890.28it/s]\n",
      "computing distance to                                        random neighbours: 100%|██████████| 16558/16558 [00:03<00:00, 4993.10it/s]\n",
      "london_45_days processed:  91%|█████████▏| 215/235 [00:00<00:00, 17967.59it/s]\n"
     ]
    },
    {
     "name": "stdout",
     "output_type": "stream",
     "text": [
      "start_date, end_date : 2020-02-01 2020-01-31\n",
      "\"Reached end of dates, skipping....Total #dates processed=\", len(dates) : Reached end of dates, skipping....Total #dates processed= 215\n"
     ]
    },
    {
     "name": "stderr",
     "output_type": "stream",
     "text": [
      "/home/niskumar/NeurIPS2022-traffic4cast/train_data_all_cities/london-1-1-45-:   0%|          | 0/215 [00:00<?, ?it/s]\n",
      "computing distance to                                        random neighbours: 100%|██████████| 767/767 [00:00<00:00, 4981.41it/s]\n",
      "computing distance to                                        random neighbours: 100%|██████████| 16558/16558 [00:03<00:00, 4990.94it/s]\n",
      "london_45_days processed:  91%|█████████▏| 215/235 [00:00<00:00, 18320.58it/s]\n"
     ]
    },
    {
     "name": "stdout",
     "output_type": "stream",
     "text": [
      "start_date, end_date : 2020-02-01 2020-01-31\n",
      "\"Reached end of dates, skipping....Total #dates processed=\", len(dates) : Reached end of dates, skipping....Total #dates processed= 215\n"
     ]
    },
    {
     "name": "stderr",
     "output_type": "stream",
     "text": [
      "/home/niskumar/NeurIPS2022-traffic4cast/train_data_all_cities/london-1-1-45-:   0%|          | 0/215 [00:00<?, ?it/s]\n",
      "computing distance to                                        random neighbours: 100%|██████████| 863/863 [00:00<00:00, 4983.47it/s]\n",
      "computing distance to                                        random neighbours: 100%|██████████| 16558/16558 [00:03<00:00, 4991.99it/s]\n",
      "london_45_days processed:  91%|█████████▏| 215/235 [00:00<00:00, 18657.16it/s]\n"
     ]
    },
    {
     "name": "stdout",
     "output_type": "stream",
     "text": [
      "start_date, end_date : 2020-02-01 2020-01-31\n",
      "\"Reached end of dates, skipping....Total #dates processed=\", len(dates) : Reached end of dates, skipping....Total #dates processed= 215\n"
     ]
    },
    {
     "name": "stderr",
     "output_type": "stream",
     "text": [
      "/home/niskumar/NeurIPS2022-traffic4cast/train_data_all_cities/london-1-1-45-:   0%|          | 0/215 [00:00<?, ?it/s]\n",
      "computing distance to                                        random neighbours: 100%|██████████| 959/959 [00:00<00:00, 4961.43it/s]\n",
      "computing distance to                                        random neighbours: 100%|██████████| 16558/16558 [00:03<00:00, 4928.69it/s]\n",
      "london_45_days processed:  91%|█████████▏| 215/235 [00:00<00:00, 19019.18it/s]\n"
     ]
    },
    {
     "name": "stdout",
     "output_type": "stream",
     "text": [
      "start_date, end_date : 2020-02-01 2020-01-31\n",
      "\"Reached end of dates, skipping....Total #dates processed=\", len(dates) : Reached end of dates, skipping....Total #dates processed= 215\n"
     ]
    },
    {
     "name": "stderr",
     "output_type": "stream",
     "text": [
      "/home/niskumar/NeurIPS2022-traffic4cast/train_data_all_cities/london-1-1-45-:   0%|          | 0/215 [00:00<?, ?it/s]\n",
      "computing distance to                                        random neighbours: 100%|██████████| 1055/1055 [00:00<00:00, 4960.15it/s]\n",
      "computing distance to                                        random neighbours: 100%|██████████| 16558/16558 [00:03<00:00, 5033.22it/s]\n",
      "london_45_days processed:  91%|█████████▏| 215/235 [00:00<00:00, 17974.75it/s]\n"
     ]
    },
    {
     "name": "stdout",
     "output_type": "stream",
     "text": [
      "start_date, end_date : 2020-02-01 2020-01-31\n",
      "\"Reached end of dates, skipping....Total #dates processed=\", len(dates) : Reached end of dates, skipping....Total #dates processed= 215\n"
     ]
    },
    {
     "name": "stderr",
     "output_type": "stream",
     "text": [
      "/home/niskumar/NeurIPS2022-traffic4cast/train_data_all_cities/london-1-1-45-:   0%|          | 0/215 [00:00<?, ?it/s]\n",
      "computing distance to                                        random neighbours: 100%|██████████| 1151/1151 [00:00<00:00, 4913.92it/s]\n",
      "computing distance to                                        random neighbours: 100%|██████████| 16558/16558 [00:03<00:00, 5010.47it/s]\n",
      "london_45_days processed:  91%|█████████▏| 215/235 [00:00<00:00, 18868.36it/s]\n"
     ]
    },
    {
     "name": "stdout",
     "output_type": "stream",
     "text": [
      "start_date, end_date : 2020-02-01 2020-01-31\n",
      "\"Reached end of dates, skipping....Total #dates processed=\", len(dates) : Reached end of dates, skipping....Total #dates processed= 215\n"
     ]
    },
    {
     "name": "stderr",
     "output_type": "stream",
     "text": [
      "/home/niskumar/NeurIPS2022-traffic4cast/train_data_all_cities/london-1-1-45-:   0%|          | 0/215 [00:00<?, ?it/s]\n",
      "computing distance to                                        random neighbours: 100%|██████████| 1247/1247 [00:00<00:00, 4998.05it/s]\n",
      "computing distance to                                        random neighbours: 100%|██████████| 16558/16558 [00:03<00:00, 4994.06it/s]\n",
      "london_45_days processed:  91%|█████████▏| 215/235 [00:00<00:00, 18879.81it/s]\n"
     ]
    },
    {
     "name": "stdout",
     "output_type": "stream",
     "text": [
      "start_date, end_date : 2020-02-01 2020-01-31\n",
      "\"Reached end of dates, skipping....Total #dates processed=\", len(dates) : Reached end of dates, skipping....Total #dates processed= 215\n"
     ]
    },
    {
     "name": "stderr",
     "output_type": "stream",
     "text": [
      "/home/niskumar/NeurIPS2022-traffic4cast/train_data_all_cities/london-1-1-45-:   0%|          | 0/215 [00:00<?, ?it/s]\n",
      "computing distance to                                        random neighbours: 100%|██████████| 95/95 [00:00<00:00, 4740.68it/s]\n",
      "computing distance to                                        random neighbours: 100%|██████████| 16558/16558 [00:03<00:00, 5014.96it/s]\n",
      "london_45_days processed:  91%|█████████▏| 215/235 [00:00<00:00, 18169.60it/s]\n"
     ]
    },
    {
     "name": "stdout",
     "output_type": "stream",
     "text": [
      "start_date, end_date : 2020-02-01 2020-01-31\n",
      "\"Reached end of dates, skipping....Total #dates processed=\", len(dates) : Reached end of dates, skipping....Total #dates processed= 215\n"
     ]
    },
    {
     "name": "stderr",
     "output_type": "stream",
     "text": [
      "/home/niskumar/NeurIPS2022-traffic4cast/train_data_all_cities/london-1-1-45-:   0%|          | 0/215 [00:00<?, ?it/s]\n",
      "computing distance to                                        random neighbours: 100%|██████████| 191/191 [00:00<00:00, 4862.77it/s]\n",
      "computing distance to                                        random neighbours: 100%|██████████| 16558/16558 [00:03<00:00, 5008.52it/s]\n",
      "london_45_days processed:  91%|█████████▏| 215/235 [00:00<00:00, 18612.11it/s]\n"
     ]
    },
    {
     "name": "stdout",
     "output_type": "stream",
     "text": [
      "start_date, end_date : 2020-02-01 2020-01-31\n",
      "\"Reached end of dates, skipping....Total #dates processed=\", len(dates) : Reached end of dates, skipping....Total #dates processed= 215\n"
     ]
    },
    {
     "name": "stderr",
     "output_type": "stream",
     "text": [
      "/home/niskumar/NeurIPS2022-traffic4cast/train_data_all_cities/london-1-1-45-:   0%|          | 0/215 [00:00<?, ?it/s]\n",
      "computing distance to                                        random neighbours: 100%|██████████| 287/287 [00:00<00:00, 5003.08it/s]\n",
      "computing distance to                                        random neighbours: 100%|██████████| 16558/16558 [00:03<00:00, 5037.47it/s]\n",
      "london_45_days processed:  91%|█████████▏| 215/235 [00:00<00:00, 18985.54it/s]\n"
     ]
    },
    {
     "name": "stdout",
     "output_type": "stream",
     "text": [
      "start_date, end_date : 2020-02-01 2020-01-31\n",
      "\"Reached end of dates, skipping....Total #dates processed=\", len(dates) : Reached end of dates, skipping....Total #dates processed= 215\n"
     ]
    },
    {
     "name": "stderr",
     "output_type": "stream",
     "text": [
      "/home/niskumar/NeurIPS2022-traffic4cast/train_data_all_cities/london-1-1-45-:   0%|          | 0/215 [00:00<?, ?it/s]\n",
      "computing distance to                                        random neighbours: 100%|██████████| 383/383 [00:00<00:00, 4960.33it/s]\n",
      "computing distance to                                        random neighbours: 100%|██████████| 16558/16558 [00:03<00:00, 5003.29it/s]\n",
      "london_45_days processed:  91%|█████████▏| 215/235 [00:00<00:00, 18660.25it/s]\n"
     ]
    },
    {
     "name": "stdout",
     "output_type": "stream",
     "text": [
      "start_date, end_date : 2020-02-01 2020-01-31\n",
      "\"Reached end of dates, skipping....Total #dates processed=\", len(dates) : Reached end of dates, skipping....Total #dates processed= 215\n"
     ]
    },
    {
     "name": "stderr",
     "output_type": "stream",
     "text": [
      "/home/niskumar/NeurIPS2022-traffic4cast/train_data_all_cities/london-1-1-45-:   0%|          | 0/215 [00:00<?, ?it/s]\n",
      "computing distance to                                        random neighbours: 100%|██████████| 479/479 [00:00<00:00, 5006.06it/s]\n",
      "computing distance to                                        random neighbours: 100%|██████████| 16558/16558 [00:03<00:00, 5039.51it/s]\n",
      "london_45_days processed:  91%|█████████▏| 215/235 [00:00<00:00, 18521.13it/s]\n"
     ]
    },
    {
     "name": "stdout",
     "output_type": "stream",
     "text": [
      "start_date, end_date : 2020-02-01 2020-01-31\n",
      "\"Reached end of dates, skipping....Total #dates processed=\", len(dates) : Reached end of dates, skipping....Total #dates processed= 215\n"
     ]
    },
    {
     "name": "stderr",
     "output_type": "stream",
     "text": [
      "/home/niskumar/NeurIPS2022-traffic4cast/train_data_all_cities/london-1-1-45-:   0%|          | 0/215 [00:00<?, ?it/s]\n",
      "computing distance to                                        random neighbours: 100%|██████████| 575/575 [00:00<00:00, 4879.83it/s]\n",
      "computing distance to                                        random neighbours: 100%|██████████| 16558/16558 [00:03<00:00, 5010.50it/s]\n",
      "london_45_days processed:  91%|█████████▏| 215/235 [00:00<00:00, 18062.60it/s]\n"
     ]
    },
    {
     "name": "stdout",
     "output_type": "stream",
     "text": [
      "start_date, end_date : 2020-02-01 2020-01-31\n",
      "\"Reached end of dates, skipping....Total #dates processed=\", len(dates) : Reached end of dates, skipping....Total #dates processed= 215\n"
     ]
    },
    {
     "name": "stderr",
     "output_type": "stream",
     "text": [
      "/home/niskumar/NeurIPS2022-traffic4cast/train_data_all_cities/london-1-1-45-:   0%|          | 0/215 [00:00<?, ?it/s]\n",
      "computing distance to                                        random neighbours: 100%|██████████| 671/671 [00:00<00:00, 4992.00it/s]\n",
      "computing distance to                                        random neighbours: 100%|██████████| 16558/16558 [00:03<00:00, 5052.97it/s]\n",
      "london_45_days processed:  91%|█████████▏| 215/235 [00:00<00:00, 18855.73it/s]\n"
     ]
    },
    {
     "name": "stdout",
     "output_type": "stream",
     "text": [
      "start_date, end_date : 2020-02-01 2020-01-31\n",
      "\"Reached end of dates, skipping....Total #dates processed=\", len(dates) : Reached end of dates, skipping....Total #dates processed= 215\n"
     ]
    },
    {
     "name": "stderr",
     "output_type": "stream",
     "text": [
      "/home/niskumar/NeurIPS2022-traffic4cast/train_data_all_cities/london-1-1-45-:   0%|          | 0/215 [00:00<?, ?it/s]\n",
      "computing distance to                                        random neighbours: 100%|██████████| 767/767 [00:00<00:00, 4988.45it/s]\n",
      "computing distance to                                        random neighbours: 100%|██████████| 16558/16558 [00:03<00:00, 5004.16it/s]\n",
      "london_45_days processed:  91%|█████████▏| 215/235 [00:00<00:00, 19145.97it/s]\n"
     ]
    },
    {
     "name": "stdout",
     "output_type": "stream",
     "text": [
      "start_date, end_date : 2020-02-01 2020-01-31\n",
      "\"Reached end of dates, skipping....Total #dates processed=\", len(dates) : Reached end of dates, skipping....Total #dates processed= 215\n"
     ]
    },
    {
     "name": "stderr",
     "output_type": "stream",
     "text": [
      "/home/niskumar/NeurIPS2022-traffic4cast/train_data_all_cities/london-1-1-45-:   0%|          | 0/215 [00:00<?, ?it/s]\n",
      "computing distance to                                        random neighbours: 100%|██████████| 863/863 [00:00<00:00, 5014.64it/s]\n",
      "computing distance to                                        random neighbours: 100%|██████████| 16558/16558 [00:03<00:00, 5039.05it/s]\n",
      "london_45_days processed:  91%|█████████▏| 215/235 [00:00<00:00, 19271.59it/s]\n"
     ]
    },
    {
     "name": "stdout",
     "output_type": "stream",
     "text": [
      "start_date, end_date : 2020-02-01 2020-01-31\n",
      "\"Reached end of dates, skipping....Total #dates processed=\", len(dates) : Reached end of dates, skipping....Total #dates processed= 215\n"
     ]
    },
    {
     "name": "stderr",
     "output_type": "stream",
     "text": [
      "/home/niskumar/NeurIPS2022-traffic4cast/train_data_all_cities/london-1-1-45-:   0%|          | 0/215 [00:00<?, ?it/s]\n",
      "computing distance to                                        random neighbours: 100%|██████████| 959/959 [00:00<00:00, 5021.80it/s]\n",
      "computing distance to                                        random neighbours: 100%|██████████| 16558/16558 [00:03<00:00, 5042.12it/s]\n"
     ]
    }
   ],
   "source": [
    "#########################################################################\n",
    "#################  tryout: smoothing and thresholds  ####################\n",
    "#########################################################################\n",
    "# ! pip install peakdetect==1.2\n",
    "\n",
    "import matplotlib.patches as patches\n",
    "\n",
    "def compute_temp_dist(fileserial_num_list):\n",
    "    random.shuffle(fileserial_num_list)\n",
    "        \n",
    "    distances = []\n",
    "    \n",
    "    data_cache = {}\n",
    "    sequential_delete = []\n",
    "    # sprint (int(np.random.rand() * N), len(fileserial_num_list))\n",
    "\n",
    "    n = int(np.random.rand() * len(fileserial_num_list))\n",
    "    query_point = np.load(fileserial_num_list[n])\n",
    "    \n",
    "    for i in (range(1, len(fileserial_num_list)), desc = \"computing distance to\\\n",
    "                                        random neighbours\"):\n",
    "        neighbour_x_array = np.load(fileserial_num_list[i])\n",
    "        \n",
    "        if \"_x.npy\" not in fileserial_num_list[i]:\n",
    "            raise Exception (\"Wrong file supplied; we should not have _y files\\n since we are looking for n-hood of x\")\n",
    "                    \n",
    "        distances.append(np.max(np.abs(query_point - neighbour_x_array))) \n",
    "    return distances\n",
    "        \n",
    "\n",
    "\n",
    "from scipy.stats import entropy\n",
    "smooth_window = np.nan # no longer being used\n",
    "\n",
    "for cityname in [\"london\"]: # , \"Madrid\", \"Melbourne\"]:\n",
    "    for scale in config.scales_def:\n",
    "        for i_o_length in [1]:\n",
    "            for pred_horiz in [1]: # list(range(1, 8)): # [1]:\n",
    "                plt.clf()\n",
    "                symmetric_KL_div_list_stacked = []\n",
    "                for repeat in tqdm(range(200), desc=\"Sampling across data points\"):\n",
    "                    symmetric_KL_div_list = []\n",
    "                    N_range = [96] # based on previous results\n",
    "                    BINS = np.arange(0, 7000, 100)\n",
    "                    for N in N_range:\n",
    "\n",
    "                        ProcessRaw(cityname=cityname, i_o_length=i_o_length, prediction_horizon=pred_horiz, grid_size=scale)\n",
    "                        prefix = ProcessRaw.file_prefix(cityname, i_o_length, pred_horiz, scale)\n",
    "\n",
    "                        file_list = glob.glob(\"../train_data_all_cities/\" + prefix + \"/*_x.npy\")\n",
    "                        random.shuffle(file_list)\n",
    "\n",
    "                        distances = compute_temp_dist(file_list[:N])\n",
    "                        hist_sample = np.histogram(distances, bins=BINS)[0]\n",
    "                        pdf_dist_sample = hist_sample / hist_sample.sum() + 1e-16\n",
    "\n",
    "                        distances = compute_temp_dist(file_list[:-1])\n",
    "                        hist_all = np.histogram(distances, bins=BINS)[0]\n",
    "                        pdf_dist_all = hist_all / hist_all.sum() + 1e-16\n",
    "\n",
    "                        symmetric_KL_div = entropy(pdf_dist_sample, pdf_dist_all) + \\\n",
    "                                           entropy(pdf_dist_all, pdf_dist_sample) \n",
    "\n",
    "                        symmetric_KL_div_list.append(symmetric_KL_div)\n",
    "                        \n",
    "                    symmetric_KL_div_list_stacked.append(symmetric_KL_div_list)\n",
    "                    \n",
    "                    plt.plot(N_range, symmetric_KL_div_list, alpha=0.5)\n",
    "            plt.plot(N_range, np.median(np.array(symmetric_KL_div_list_stacked), axis=0), \\\n",
    "                     alpha=1, color=\"black\", label=\"median\")\n",
    "            plt.xlabel(\"sample size(N)\")\n",
    "            plt.xticks(N_range)\n",
    "            plt.legend()\n",
    "            plt.title(\"Single point KL-div whole data vs sample pdf \\n\"+prefix)\n",
    "            plt.savefig(\"dist_plots/\" + \"Whole data set KL-div (whole data, sample) \\n\"+prefix + \".png\")\n",
    "            plt.clf()\n",
    "\n",
    "                        "
   ]
  },
  {
   "cell_type": "code",
   "execution_count": null,
   "id": "8d425d98-d357-4ba9-82ae-5a2ffb42cdaa",
   "metadata": {},
   "outputs": [],
   "source": []
  },
  {
   "cell_type": "code",
   "execution_count": null,
   "id": "d618a8d6-853a-4eaa-bff4-52f3ed8b2810",
   "metadata": {
    "tags": []
   },
   "outputs": [],
   "source": []
  },
  {
   "cell_type": "code",
   "execution_count": 13,
   "id": "64b43de5-a9fa-4668-9a42-94f97dc80999",
   "metadata": {},
   "outputs": [
    {
     "data": {
      "text/plain": [
       "['../train_data_all_cities/london-1-1-45-/london-1-1-45-13346_x.npy',\n",
       " '../train_data_all_cities/london-1-1-45-/london-1-1-45-12426_x.npy',\n",
       " '../train_data_all_cities/london-1-1-45-/london-1-1-45-13023_x.npy',\n",
       " '../train_data_all_cities/london-1-1-45-/london-1-1-45-15303_x.npy',\n",
       " '../train_data_all_cities/london-1-1-45-/london-1-1-45-7305_x.npy',\n",
       " '../train_data_all_cities/london-1-1-45-/london-1-1-45-2012_x.npy',\n",
       " '../train_data_all_cities/london-1-1-45-/london-1-1-45-4537_x.npy',\n",
       " '../train_data_all_cities/london-1-1-45-/london-1-1-45-3832_x.npy',\n",
       " '../train_data_all_cities/london-1-1-45-/london-1-1-45-1589_x.npy',\n",
       " '../train_data_all_cities/london-1-1-45-/london-1-1-45-14047_x.npy',\n",
       " '../train_data_all_cities/london-1-1-45-/london-1-1-45-506_x.npy']"
      ]
     },
     "execution_count": 13,
     "metadata": {},
     "output_type": "execute_result"
    }
   ],
   "source": []
  },
  {
   "cell_type": "code",
   "execution_count": 4,
   "id": "d7f27048-aa6c-482e-97c9-03c02156dc19",
   "metadata": {},
   "outputs": [
    {
     "data": {
      "text/plain": [
       "['../train_data_all_cities/london-1-1-45-/london-1-1-45-787_x.npy',\n",
       " '../train_data_all_cities/london-1-1-45-/london-1-1-45-134_x.npy',\n",
       " '../train_data_all_cities/london-1-1-45-/london-1-1-45-14457_x.npy',\n",
       " '../train_data_all_cities/london-1-1-45-/london-1-1-45-15048_x.npy',\n",
       " '../train_data_all_cities/london-1-1-45-/london-1-1-45-9595_x.npy']"
      ]
     },
     "execution_count": 4,
     "metadata": {},
     "output_type": "execute_result"
    }
   ],
   "source": []
  },
  {
   "cell_type": "code",
   "execution_count": null,
   "id": "00748bfc-1a00-4fab-9b57-47080b8b5b74",
   "metadata": {},
   "outputs": [],
   "source": []
  },
  {
   "cell_type": "code",
   "execution_count": 8,
   "id": "459e4a8e-a033-4638-9d5a-0d5bbdf1b621",
   "metadata": {},
   "outputs": [
    {
     "name": "stdout",
     "output_type": "stream",
     "text": [
      "/home/niskumar/NeurIPS2022-traffic4cast/exploration\n"
     ]
    }
   ],
   "source": [
    "!pwd"
   ]
  },
  {
   "cell_type": "code",
   "execution_count": null,
   "id": "7c48ab22-4151-4bdb-9a93-0078353c08c7",
   "metadata": {},
   "outputs": [],
   "source": []
  },
  {
   "cell_type": "code",
   "execution_count": null,
   "id": "942ee717-3f80-4e1b-9155-84228ee7f716",
   "metadata": {},
   "outputs": [],
   "source": []
  },
  {
   "cell_type": "code",
   "execution_count": null,
   "id": "64808141-55b5-417a-95f1-e43bb5c8a686",
   "metadata": {},
   "outputs": [],
   "source": []
  },
  {
   "cell_type": "code",
   "execution_count": null,
   "id": "9d11167c-f9ab-4da6-99c0-4fea86039d2e",
   "metadata": {},
   "outputs": [],
   "source": []
  },
  {
   "cell_type": "code",
   "execution_count": null,
   "id": "140080bc-1265-4835-a655-a97a7a9f3644",
   "metadata": {},
   "outputs": [],
   "source": []
  },
  {
   "cell_type": "code",
   "execution_count": null,
   "id": "45b727e2-b398-4ea1-b13b-10341496fce8",
   "metadata": {},
   "outputs": [],
   "source": [
    "\n",
    "\n",
    "\n"
   ]
  },
  {
   "cell_type": "code",
   "execution_count": null,
   "id": "7f9c5c01-9a37-4772-bb3e-45e7924c004e",
   "metadata": {},
   "outputs": [],
   "source": []
  },
  {
   "cell_type": "code",
   "execution_count": null,
   "id": "abd8d3cf-5001-454a-b204-91663df0befc",
   "metadata": {},
   "outputs": [],
   "source": []
  }
 ],
 "metadata": {
  "kernelspec": {
   "display_name": "Python 3 (ipykernel)",
   "language": "python",
   "name": "python3"
  },
  "language_info": {
   "codemirror_mode": {
    "name": "ipython",
    "version": 3
   },
   "file_extension": ".py",
   "mimetype": "text/x-python",
   "name": "python",
   "nbconvert_exporter": "python",
   "pygments_lexer": "ipython3",
   "version": "3.10.9"
  }
 },
 "nbformat": 4,
 "nbformat_minor": 5
}
