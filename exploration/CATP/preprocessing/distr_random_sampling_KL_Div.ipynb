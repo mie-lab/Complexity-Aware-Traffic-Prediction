{
 "cells": [
  {
   "cell_type": "code",
   "execution_count": 1,
   "id": "615274c4-49ff-48a4-a97f-b9cb8dec6bd0",
   "metadata": {},
   "outputs": [],
   "source": [
    "import os\n",
    "import sys\n",
    "\n",
    "# os.path.join(os.path.dirname(__file__)\n",
    "sys.path.append(\"../\")  # location of config file\n",
    "sys.path.append(\"../../\") # working directory inside exploration\n",
    "sys.path.append(\"../../../\") \n",
    "\n",
    "\n",
    "\n",
    "import config\n",
    "\n",
    "os.chdir(\"../../\")\n",
    "\n",
    "import glob\n",
    "import numpy as np\n",
    "from smartprint import smartprint as sprint\n",
    "from preprocessing.ProcessRaw import ProcessRaw\n",
    "from smartprint import smartprint as sprint\n",
    "import random\n",
    "from tqdm import tqdm\n",
    "import matplotlib.pyplot as plt"
   ]
  },
  {
   "cell_type": "code",
   "execution_count": 86,
   "id": "1b1b1d6f-cee7-4b2f-81ca-7968f590f1c3",
   "metadata": {},
   "outputs": [],
   "source": [
    "# ! rm -rf dist_plots\n",
    "# ! mkdir dist_plots"
   ]
  },
  {
   "cell_type": "code",
   "execution_count": 85,
   "id": "04ba516a-ee88-45ca-a31c-a5e89c74e79a",
   "metadata": {},
   "outputs": [
    {
     "name": "stderr",
     "output_type": "stream",
     "text": [
      "london_45_days processed:  91%|█████████▏| 215/235 [01:35<00:08,  2.26it/s]\n"
     ]
    },
    {
     "name": "stdout",
     "output_type": "stream",
     "text": [
      "start_date, end_date : 2020-02-01 2020-01-31\n",
      "\"Reached end of dates, skipping....Total #dates processed=\", len(dates) : Reached end of dates, skipping....Total #dates processed= 215\n"
     ]
    },
    {
     "name": "stderr",
     "output_type": "stream",
     "text": [
      "/home/niskumar/NeurIPS2022-traffic4cast/train_data_all_cities/london-1-1-45-:   0%|          | 0/215 [00:00<?, ?it/s]\n",
      "Repeating N times: 100%|██████████| 30/30 [01:56<00:00,  3.89s/it]\n",
      "london_105_days processed:  91%|█████████▏| 215/235 [02:09<00:12,  1.66it/s]\n"
     ]
    },
    {
     "name": "stdout",
     "output_type": "stream",
     "text": [
      "start_date, end_date : 2020-02-01 2020-01-31\n",
      "\"Reached end of dates, skipping....Total #dates processed=\", len(dates) : Reached end of dates, skipping....Total #dates processed= 215\n"
     ]
    },
    {
     "name": "stderr",
     "output_type": "stream",
     "text": [
      "/home/niskumar/NeurIPS2022-traffic4cast/train_data_all_cities/london-1-1-105-: 100%|██████████| 215/215 [00:17<00:00, 12.20it/s]\n"
     ]
    },
    {
     "name": "stdout",
     "output_type": "stream",
     "text": [
      "self.key_dimensions(), tcount, vcount : london-1-1-105- 16560 3220\n",
      " : 16560 16560\n",
      " : 3220 3220\n"
     ]
    },
    {
     "name": "stderr",
     "output_type": "stream",
     "text": [
      "Repeating N times: 100%|██████████| 30/30 [02:17<00:00,  4.59s/it]\n",
      "london_205_days processed:  91%|█████████▏| 215/235 [02:18<00:12,  1.56it/s]\n"
     ]
    },
    {
     "name": "stdout",
     "output_type": "stream",
     "text": [
      "start_date, end_date : 2020-02-01 2020-01-31\n",
      "\"Reached end of dates, skipping....Total #dates processed=\", len(dates) : Reached end of dates, skipping....Total #dates processed= 215\n"
     ]
    },
    {
     "name": "stderr",
     "output_type": "stream",
     "text": [
      "/home/niskumar/NeurIPS2022-traffic4cast/train_data_all_cities/london-1-1-205-:   0%|          | 0/215 [00:00<?, ?it/s]\n",
      "Repeating N times: 100%|██████████| 30/30 [03:23<00:00,  6.79s/it]\n",
      "madrid_45_days processed:  91%|█████████ | 214/235 [01:58<00:11,  1.80it/s]\n"
     ]
    },
    {
     "name": "stdout",
     "output_type": "stream",
     "text": [
      "start_date, end_date : 2022-01-01 2021-12-31\n",
      "\"Reached end of dates, skipping....Total #dates processed=\", len(dates) : Reached end of dates, skipping....Total #dates processed= 214\n"
     ]
    },
    {
     "name": "stderr",
     "output_type": "stream",
     "text": [
      "/home/niskumar/NeurIPS2022-traffic4cast/train_data_all_cities/madrid-1-1-45-:   0%|          | 0/214 [00:00<?, ?it/s]\n",
      "Repeating N times: 100%|██████████| 30/30 [01:56<00:00,  3.88s/it]\n",
      "madrid_105_days processed:  91%|█████████ | 214/235 [02:00<00:11,  1.77it/s]\n"
     ]
    },
    {
     "name": "stdout",
     "output_type": "stream",
     "text": [
      "start_date, end_date : 2022-01-01 2021-12-31\n",
      "\"Reached end of dates, skipping....Total #dates processed=\", len(dates) : Reached end of dates, skipping....Total #dates processed= 214\n"
     ]
    },
    {
     "name": "stderr",
     "output_type": "stream",
     "text": [
      "/home/niskumar/NeurIPS2022-traffic4cast/train_data_all_cities/madrid-1-1-105-: 100%|██████████| 214/214 [00:17<00:00, 12.25it/s]\n"
     ]
    },
    {
     "name": "stdout",
     "output_type": "stream",
     "text": [
      "self.key_dimensions(), tcount, vcount : madrid-1-1-105- 16560 3128\n",
      " : 16560 16560\n",
      " : 3128 3128\n"
     ]
    },
    {
     "name": "stderr",
     "output_type": "stream",
     "text": [
      "Repeating N times: 100%|██████████| 30/30 [02:16<00:00,  4.54s/it]\n",
      "madrid_205_days processed:  91%|█████████ | 214/235 [02:07<00:12,  1.68it/s]\n"
     ]
    },
    {
     "name": "stdout",
     "output_type": "stream",
     "text": [
      "start_date, end_date : 2022-01-01 2021-12-31\n",
      "\"Reached end of dates, skipping....Total #dates processed=\", len(dates) : Reached end of dates, skipping....Total #dates processed= 214\n"
     ]
    },
    {
     "name": "stderr",
     "output_type": "stream",
     "text": [
      "/home/niskumar/NeurIPS2022-traffic4cast/train_data_all_cities/madrid-1-1-205-:   0%|          | 0/214 [00:00<?, ?it/s]\n",
      "Repeating N times:  40%|████      | 12/30 [01:20<01:59,  6.63s/it]/tmp/ipykernel_1822372/3947348247.py:61: RuntimeWarning: invalid value encountered in divide\n",
      "  pdf_dist_sample = hist_sample / hist_sample.sum() + 1e-16\n",
      "Repeating N times: 100%|██████████| 30/30 [03:19<00:00,  6.66s/it]\n",
      "melbourne_45_days processed:   1%|          | 2/235 [00:01<02:54,  1.34it/s]"
     ]
    },
    {
     "name": "stdout",
     "output_type": "stream",
     "text": [
      "df.shape[0] : 0\n",
      "self.cityname : melbourne\n",
      "Missing day:  2020-06-03\n"
     ]
    },
    {
     "name": "stderr",
     "output_type": "stream",
     "text": [
      "melbourne_45_days processed:  29%|██▊       | 67/235 [00:46<01:57,  1.43it/s]"
     ]
    },
    {
     "name": "stdout",
     "output_type": "stream",
     "text": [
      "df.shape[0] : 0\n",
      "self.cityname : melbourne\n",
      "Missing day:  2020-08-07\n"
     ]
    },
    {
     "name": "stderr",
     "output_type": "stream",
     "text": [
      "melbourne_45_days processed:  49%|████▉     | 116/235 [01:19<01:23,  1.43it/s]"
     ]
    },
    {
     "name": "stdout",
     "output_type": "stream",
     "text": [
      "df.shape[0] : 0\n",
      "self.cityname : melbourne\n",
      "Missing day:  2020-09-25\n"
     ]
    },
    {
     "name": "stderr",
     "output_type": "stream",
     "text": [
      "melbourne_45_days processed:  53%|█████▎    | 125/235 [01:25<01:15,  1.45it/s]"
     ]
    },
    {
     "name": "stdout",
     "output_type": "stream",
     "text": [
      "df.shape[0] : 0\n",
      "self.cityname : melbourne\n",
      "Missing day:  2020-10-04\n"
     ]
    },
    {
     "name": "stderr",
     "output_type": "stream",
     "text": [
      "melbourne_45_days processed:  91%|█████████ | 213/235 [02:26<00:15,  1.45it/s]\n"
     ]
    },
    {
     "name": "stdout",
     "output_type": "stream",
     "text": [
      "start_date, end_date : 2020-12-31 2020-12-30\n",
      "\"Reached end of dates, skipping....Total #dates processed=\", len(dates) : Reached end of dates, skipping....Total #dates processed= 213\n"
     ]
    },
    {
     "name": "stderr",
     "output_type": "stream",
     "text": [
      "/home/niskumar/NeurIPS2022-traffic4cast/train_data_all_cities/melbourne-1-1-45-:   0%|          | 0/213 [00:00<?, ?it/s]\n",
      "Repeating N times: 100%|██████████| 30/30 [01:55<00:00,  3.85s/it]\n",
      "melbourne_105_days processed:   1%|          | 2/235 [00:01<02:58,  1.31it/s]"
     ]
    },
    {
     "name": "stdout",
     "output_type": "stream",
     "text": [
      "df.shape[0] : 0\n",
      "self.cityname : melbourne\n",
      "Missing day:  2020-06-03\n"
     ]
    },
    {
     "name": "stderr",
     "output_type": "stream",
     "text": [
      "melbourne_105_days processed:  29%|██▊       | 67/235 [00:47<01:59,  1.41it/s]"
     ]
    },
    {
     "name": "stdout",
     "output_type": "stream",
     "text": [
      "df.shape[0] : 0\n",
      "self.cityname : melbourne\n",
      "Missing day:  2020-08-07\n"
     ]
    },
    {
     "name": "stderr",
     "output_type": "stream",
     "text": [
      "melbourne_105_days processed:  49%|████▉     | 116/235 [01:21<01:24,  1.41it/s]"
     ]
    },
    {
     "name": "stdout",
     "output_type": "stream",
     "text": [
      "df.shape[0] : 0\n",
      "self.cityname : melbourne\n",
      "Missing day:  2020-09-25\n"
     ]
    },
    {
     "name": "stderr",
     "output_type": "stream",
     "text": [
      "melbourne_105_days processed:  53%|█████▎    | 125/235 [01:27<01:16,  1.44it/s]"
     ]
    },
    {
     "name": "stdout",
     "output_type": "stream",
     "text": [
      "df.shape[0] : 0\n",
      "self.cityname : melbourne\n",
      "Missing day:  2020-10-04\n"
     ]
    },
    {
     "name": "stderr",
     "output_type": "stream",
     "text": [
      "melbourne_105_days processed:  91%|█████████ | 213/235 [02:29<00:15,  1.43it/s]\n"
     ]
    },
    {
     "name": "stdout",
     "output_type": "stream",
     "text": [
      "start_date, end_date : 2020-12-31 2020-12-30\n",
      "\"Reached end of dates, skipping....Total #dates processed=\", len(dates) : Reached end of dates, skipping....Total #dates processed= 213\n"
     ]
    },
    {
     "name": "stderr",
     "output_type": "stream",
     "text": [
      "/home/niskumar/NeurIPS2022-traffic4cast/train_data_all_cities/melbourne-1-1-105-: 100%|██████████| 213/213 [00:17<00:00, 12.43it/s]\n"
     ]
    },
    {
     "name": "stdout",
     "output_type": "stream",
     "text": [
      "self.key_dimensions(), tcount, vcount : melbourne-1-1-105- 16560 3036\n",
      " : 16560 16560\n",
      " : 3036 3036\n"
     ]
    },
    {
     "name": "stderr",
     "output_type": "stream",
     "text": [
      "Repeating N times: 100%|██████████| 30/30 [02:16<00:00,  4.54s/it]\n",
      "melbourne_205_days processed:   1%|          | 2/235 [00:01<03:04,  1.26it/s]"
     ]
    },
    {
     "name": "stdout",
     "output_type": "stream",
     "text": [
      "df.shape[0] : 0\n",
      "self.cityname : melbourne\n",
      "Missing day:  2020-06-03\n"
     ]
    },
    {
     "name": "stderr",
     "output_type": "stream",
     "text": [
      "melbourne_205_days processed:  29%|██▊       | 67/235 [00:49<02:05,  1.34it/s]"
     ]
    },
    {
     "name": "stdout",
     "output_type": "stream",
     "text": [
      "df.shape[0] : 0\n",
      "self.cityname : melbourne\n",
      "Missing day:  2020-08-07\n"
     ]
    },
    {
     "name": "stderr",
     "output_type": "stream",
     "text": [
      "melbourne_205_days processed:  49%|████▉     | 116/235 [01:25<01:28,  1.34it/s]"
     ]
    },
    {
     "name": "stdout",
     "output_type": "stream",
     "text": [
      "df.shape[0] : 0\n",
      "self.cityname : melbourne\n",
      "Missing day:  2020-09-25\n"
     ]
    },
    {
     "name": "stderr",
     "output_type": "stream",
     "text": [
      "melbourne_205_days processed:  53%|█████▎    | 125/235 [01:31<01:20,  1.37it/s]"
     ]
    },
    {
     "name": "stdout",
     "output_type": "stream",
     "text": [
      "df.shape[0] : 0\n",
      "self.cityname : melbourne\n",
      "Missing day:  2020-10-04\n"
     ]
    },
    {
     "name": "stderr",
     "output_type": "stream",
     "text": [
      "melbourne_205_days processed:  91%|█████████ | 213/235 [02:36<00:16,  1.36it/s]\n"
     ]
    },
    {
     "name": "stdout",
     "output_type": "stream",
     "text": [
      "start_date, end_date : 2020-12-31 2020-12-30\n",
      "\"Reached end of dates, skipping....Total #dates processed=\", len(dates) : Reached end of dates, skipping....Total #dates processed= 213\n"
     ]
    },
    {
     "name": "stderr",
     "output_type": "stream",
     "text": [
      "/home/niskumar/NeurIPS2022-traffic4cast/train_data_all_cities/melbourne-1-1-205-:   0%|          | 0/213 [00:00<?, ?it/s]\n",
      "Repeating N times: 100%|██████████| 30/30 [03:22<00:00,  6.75s/it]\n"
     ]
    },
    {
     "data": {
      "text/plain": [
       "<Figure size 640x480 with 0 Axes>"
      ]
     },
     "metadata": {},
     "output_type": "display_data"
    }
   ],
   "source": [
    "\n",
    "# ! pip install peakdetect==1.2\n",
    "\n",
    "import matplotlib.patches as patches\n",
    "\n",
    "def compute_temp_dist(file_list, query_point):\n",
    "    random.shuffle(file_list)\n",
    "        \n",
    "    distances = []\n",
    "    \n",
    "    data_cache = {}\n",
    "    sequential_delete = []\n",
    "    # sprint (int(np.random.rand() * N), len(file_list))\n",
    "\n",
    "    \n",
    "    for i in (range(1, len(file_list))):\n",
    "        neighbour_x_array = np.load(file_list[i])\n",
    "        \n",
    "        if \"_x.npy\" not in file_list[i]:\n",
    "            raise Exception (\"Wrong file supplied; we should not have _y files\\n since we are looking for n-hood of x\")\n",
    "                    \n",
    "        distances.append(np.max(np.abs(query_point - neighbour_x_array))) \n",
    "    return distances\n",
    "        \n",
    "\n",
    "\n",
    "from scipy.stats import entropy\n",
    "smooth_window = np.nan # no longer being used\n",
    "\n",
    "for cityname in [\"london\", \"Madrid\", \"Melbourne\"]:\n",
    "    for scale in [45, 105, 205]:\n",
    "        for i_o_length in [1]:\n",
    "            for pred_horiz in [1]: # [1]\n",
    "                plt.clf()\n",
    "                \n",
    "                ProcessRaw(cityname=cityname, i_o_length=i_o_length, prediction_horizon=pred_horiz, grid_size=scale)\n",
    "                prefix = ProcessRaw.file_prefix(cityname, i_o_length, pred_horiz, scale)\n",
    "\n",
    "                file_list = glob.glob(\"../train_data_all_cities/\" + prefix + \"/*_x.npy\")\n",
    "\n",
    "                        \n",
    "                symmetric_KL_div_list_stacked = []\n",
    "                for repeat in tqdm(range(30), desc=\"Repeating N times\"):\n",
    "                    symmetric_KL_div_list = []\n",
    "                    N_range = np.arange(10, 300, 15)\n",
    "                    BINS = np.arange(0, 7000, 100)\n",
    "                    \n",
    "                    # choose a query point\n",
    "                    n = int(np.random.rand() * len(file_list))\n",
    "                    query_point = np.load(file_list[n])                    \n",
    "                    \n",
    "                    distances = compute_temp_dist(file_list[:-1], query_point)\n",
    "                    hist_all = np.histogram(distances, bins=BINS)[0]\n",
    "                    pdf_dist_all = hist_all / hist_all.sum() + 1e-16                        \n",
    "                    \n",
    "                    for N in N_range:\n",
    "\n",
    "                        random.shuffle(file_list)\n",
    "                        \n",
    "                        distances = compute_temp_dist(file_list[:N], query_point)\n",
    "                        hist_sample = np.histogram(distances, bins=BINS)[0]\n",
    "                        pdf_dist_sample = hist_sample / hist_sample.sum() + 1e-16\n",
    "\n",
    "                        symmetric_KL_div = entropy(pdf_dist_sample, pdf_dist_all) + \\\n",
    "                                           entropy(pdf_dist_all, pdf_dist_sample) \n",
    "\n",
    "                        symmetric_KL_div_list.append(symmetric_KL_div)\n",
    "                    \n",
    "                        # live plot to see progress as more points are added\n",
    "                        # plt.plot(symmetric_KL_div_list, alpha=0.5)\n",
    "                        # plt.savefig(\"dist_plots/\" + \"Single point KL-div (whole data, sample) \\n\"+prefix + \".png\")\n",
    "                        \n",
    "                    symmetric_KL_div_list_stacked.append(symmetric_KL_div_list)\n",
    "                    \n",
    "                    plt.plot(N_range, symmetric_KL_div_list, alpha=0.5)\n",
    "                    \n",
    "                plt.plot(N_range, np.mean(np.array(symmetric_KL_div_list_stacked), axis=0), \\\n",
    "                     alpha=1, color=\"black\", label=\"Mean\")\n",
    "            plt.xlabel(\"sample size(N)\")\n",
    "            plt.xticks(N_range, rotation=90, fontsize=8)\n",
    "            plt.legend()\n",
    "            plt.title(\"Single point KL-div whole data vs sample pdf \\n\"+prefix)\n",
    "            plt.savefig(\"dist_plots/\" + \"Single point KL-div (whole data, sample) \\n\"+prefix + \".png\")\n",
    "            plt.clf()\n",
    "\n",
    "                        "
   ]
  },
  {
   "cell_type": "code",
   "execution_count": 80,
   "id": "3030b604-b25a-4201-b5c0-8c3843db00b8",
   "metadata": {},
   "outputs": [
    {
     "data": {
      "text/plain": [
       "[18.58199299673754,\n",
       " 6.752468106872872,\n",
       " 3.128082597407397,\n",
       " 3.2995579758874056,\n",
       " 2.163578334845474,\n",
       " 1.986212313174741,\n",
       " 2.4160177529061717,\n",
       " 1.406863303480888,\n",
       " 1.8125661207675243,\n",
       " 1.9732945930611296,\n",
       " 1.2821583052268961,\n",
       " 1.6560462481749394,\n",
       " 1.6750789499075855,\n",
       " 0.9244844800616904,\n",
       " 0.5601309812357426,\n",
       " 1.1677984652585578,\n",
       " 0.8197334243116934,\n",
       " 0.7350556157300315,\n",
       " 0.82748947007523,\n",
       " 0.8337758122799113]"
      ]
     },
     "execution_count": 80,
     "metadata": {},
     "output_type": "execute_result"
    }
   ],
   "source": [
    "symmetric_KL_div_list"
   ]
  },
  {
   "cell_type": "code",
   "execution_count": null,
   "id": "8d425d98-d357-4ba9-82ae-5a2ffb42cdaa",
   "metadata": {},
   "outputs": [],
   "source": []
  },
  {
   "cell_type": "code",
   "execution_count": null,
   "id": "d618a8d6-853a-4eaa-bff4-52f3ed8b2810",
   "metadata": {
    "tags": []
   },
   "outputs": [],
   "source": []
  },
  {
   "cell_type": "code",
   "execution_count": null,
   "id": "64b43de5-a9fa-4668-9a42-94f97dc80999",
   "metadata": {},
   "outputs": [],
   "source": []
  },
  {
   "cell_type": "code",
   "execution_count": null,
   "id": "d7f27048-aa6c-482e-97c9-03c02156dc19",
   "metadata": {},
   "outputs": [],
   "source": []
  },
  {
   "cell_type": "code",
   "execution_count": null,
   "id": "00748bfc-1a00-4fab-9b57-47080b8b5b74",
   "metadata": {},
   "outputs": [],
   "source": []
  },
  {
   "cell_type": "code",
   "execution_count": null,
   "id": "459e4a8e-a033-4638-9d5a-0d5bbdf1b621",
   "metadata": {},
   "outputs": [],
   "source": []
  },
  {
   "cell_type": "code",
   "execution_count": null,
   "id": "7c48ab22-4151-4bdb-9a93-0078353c08c7",
   "metadata": {},
   "outputs": [],
   "source": []
  },
  {
   "cell_type": "code",
   "execution_count": null,
   "id": "942ee717-3f80-4e1b-9155-84228ee7f716",
   "metadata": {},
   "outputs": [],
   "source": []
  },
  {
   "cell_type": "code",
   "execution_count": null,
   "id": "64808141-55b5-417a-95f1-e43bb5c8a686",
   "metadata": {},
   "outputs": [],
   "source": []
  },
  {
   "cell_type": "code",
   "execution_count": null,
   "id": "9d11167c-f9ab-4da6-99c0-4fea86039d2e",
   "metadata": {},
   "outputs": [],
   "source": []
  },
  {
   "cell_type": "code",
   "execution_count": null,
   "id": "140080bc-1265-4835-a655-a97a7a9f3644",
   "metadata": {},
   "outputs": [],
   "source": []
  },
  {
   "cell_type": "code",
   "execution_count": null,
   "id": "45b727e2-b398-4ea1-b13b-10341496fce8",
   "metadata": {},
   "outputs": [],
   "source": [
    "\n",
    "\n",
    "\n"
   ]
  },
  {
   "cell_type": "code",
   "execution_count": null,
   "id": "7f9c5c01-9a37-4772-bb3e-45e7924c004e",
   "metadata": {},
   "outputs": [],
   "source": []
  },
  {
   "cell_type": "code",
   "execution_count": null,
   "id": "abd8d3cf-5001-454a-b204-91663df0befc",
   "metadata": {},
   "outputs": [],
   "source": []
  }
 ],
 "metadata": {
  "kernelspec": {
   "display_name": "Python 3 (ipykernel)",
   "language": "python",
   "name": "python3"
  },
  "language_info": {
   "codemirror_mode": {
    "name": "ipython",
    "version": 3
   },
   "file_extension": ".py",
   "mimetype": "text/x-python",
   "name": "python",
   "nbconvert_exporter": "python",
   "pygments_lexer": "ipython3",
   "version": "3.9.16"
  }
 },
 "nbformat": 4,
 "nbformat_minor": 5
}
