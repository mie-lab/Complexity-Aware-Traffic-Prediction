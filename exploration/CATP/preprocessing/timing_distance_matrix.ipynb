{
 "cells": [
  {
   "cell_type": "code",
   "execution_count": 1,
   "id": "615274c4-49ff-48a4-a97f-b9cb8dec6bd0",
   "metadata": {},
   "outputs": [],
   "source": [
    "import os\n",
    "import sys\n",
    "\n",
    "# os.path.join(os.path.dirname(__file__)\n",
    "sys.path.append(\"../\")  # location of config file\n",
    "sys.path.append(\"../../../\") \n",
    "\n",
    "import config\n",
    "import glob\n",
    "import numpy as np\n",
    "from smartprint import smartprint as sprint\n",
    "from preprocessing.ProcessRaw import ProcessRaw\n",
    "from smartprint import smartprint as sprint"
   ]
  },
  {
   "cell_type": "code",
   "execution_count": 2,
   "id": "fbe1b558-b19f-4ee9-95b8-b3e4609ff9ea",
   "metadata": {},
   "outputs": [],
   "source": [
    "train_file_list = glob.glob(\"../../../train_data_all_cities/*\")\n",
    "\n",
    "import random\n",
    "random.shuffle(train_file_list)"
   ]
  },
  {
   "cell_type": "code",
   "execution_count": 3,
   "id": "942ee717-3f80-4e1b-9155-84228ee7f716",
   "metadata": {},
   "outputs": [
    {
     "data": {
      "text/plain": [
       "3919361"
      ]
     },
     "execution_count": 3,
     "metadata": {},
     "output_type": "execute_result"
    }
   ],
   "source": [
    "len(train_file_list)"
   ]
  },
  {
   "cell_type": "code",
   "execution_count": 4,
   "id": "a514fe86-4e13-46ea-9808-753fb222a33a",
   "metadata": {},
   "outputs": [
    {
     "name": "stdout",
     "output_type": "stream",
     "text": [
      "time reading all files of a particular experiment \n",
      "prefix : london-1-1-191-\n",
      "List: filename_filtered[:5]\n"
     ]
    },
    {
     "data": {
      "text/html": [
       "<pre style=\"white-space:pre;overflow-x:auto;line-height:normal;font-family:Menlo,'DejaVu Sans Mono',consolas,'Courier New',monospace\"><span style=\"font-weight: bold\">[</span>\n",
       "    <span style=\"color: #008000; text-decoration-color: #008000\">'../../../train_data_all_cities/london-1-1-191-10618_x.npy'</span>,\n",
       "    <span style=\"color: #008000; text-decoration-color: #008000\">'../../../train_data_all_cities/london-1-1-191-5934_x.npy'</span>,\n",
       "    <span style=\"color: #008000; text-decoration-color: #008000\">'../../../train_data_all_cities/london-1-1-191-8028_x.npy'</span>,\n",
       "    <span style=\"color: #008000; text-decoration-color: #008000\">'../../../train_data_all_cities/london-1-1-191-11644_x.npy'</span>,\n",
       "    <span style=\"color: #008000; text-decoration-color: #008000\">'../../../train_data_all_cities/london-1-1-191-1952_x.npy'</span>\n",
       "<span style=\"font-weight: bold\">]</span>\n",
       "</pre>\n"
      ],
      "text/plain": [
       "\u001b[1m[\u001b[0m\n",
       "    \u001b[32m'../../../train_data_all_cities/london-1-1-191-10618_x.npy'\u001b[0m,\n",
       "    \u001b[32m'../../../train_data_all_cities/london-1-1-191-5934_x.npy'\u001b[0m,\n",
       "    \u001b[32m'../../../train_data_all_cities/london-1-1-191-8028_x.npy'\u001b[0m,\n",
       "    \u001b[32m'../../../train_data_all_cities/london-1-1-191-11644_x.npy'\u001b[0m,\n",
       "    \u001b[32m'../../../train_data_all_cities/london-1-1-191-1952_x.npy'\u001b[0m\n",
       "\u001b[1m]\u001b[0m\n"
      ]
     },
     "metadata": {},
     "output_type": "display_data"
    },
    {
     "name": "stdout",
     "output_type": "stream",
     "text": [
      "len(filename_filtered) : 16560\n"
     ]
    },
    {
     "name": "stderr",
     "output_type": "stream",
     "text": [
      "406it [00:00, 4059.11it/s]"
     ]
    },
    {
     "name": "stdout",
     "output_type": "stream",
     "text": [
      "(191, 191, 1)\n"
     ]
    },
    {
     "name": "stderr",
     "output_type": "stream",
     "text": [
      "2477it [00:00, 4144.74it/s]"
     ]
    },
    {
     "name": "stdout",
     "output_type": "stream",
     "text": [
      "(191, 191, 1)\n",
      "(191, 191, 1)\n"
     ]
    },
    {
     "name": "stderr",
     "output_type": "stream",
     "text": [
      "3730it [00:00, 4162.05it/s]"
     ]
    },
    {
     "name": "stdout",
     "output_type": "stream",
     "text": [
      "(191, 191, 1)\n"
     ]
    },
    {
     "name": "stderr",
     "output_type": "stream",
     "text": [
      "4983it [00:01, 4157.19it/s]"
     ]
    },
    {
     "name": "stdout",
     "output_type": "stream",
     "text": [
      "(191, 191, 1)\n"
     ]
    },
    {
     "name": "stderr",
     "output_type": "stream",
     "text": [
      "6235it [00:01, 4153.57it/s]"
     ]
    },
    {
     "name": "stdout",
     "output_type": "stream",
     "text": [
      "(191, 191, 1)\n",
      "(191, 191, 1)\n",
      "(191, 191, 1)\n"
     ]
    },
    {
     "name": "stderr",
     "output_type": "stream",
     "text": [
      "7069it [00:01, 4155.26it/s]"
     ]
    },
    {
     "name": "stdout",
     "output_type": "stream",
     "text": [
      "(191, 191, 1)\n"
     ]
    },
    {
     "name": "stderr",
     "output_type": "stream",
     "text": [
      "9161it [00:02, 4175.44it/s]"
     ]
    },
    {
     "name": "stdout",
     "output_type": "stream",
     "text": [
      "(191, 191, 1)\n",
      "(191, 191, 1)\n"
     ]
    },
    {
     "name": "stderr",
     "output_type": "stream",
     "text": [
      "10415it [00:02, 4165.07it/s]"
     ]
    },
    {
     "name": "stdout",
     "output_type": "stream",
     "text": [
      "(191, 191, 1)\n",
      "(191, 191, 1)\n",
      "(191, 191, 1)\n"
     ]
    },
    {
     "name": "stderr",
     "output_type": "stream",
     "text": [
      "11249it [00:02, 4121.62it/s]"
     ]
    },
    {
     "name": "stdout",
     "output_type": "stream",
     "text": [
      "(191, 191, 1)\n"
     ]
    },
    {
     "name": "stderr",
     "output_type": "stream",
     "text": [
      "12909it [00:03, 4143.74it/s]"
     ]
    },
    {
     "name": "stdout",
     "output_type": "stream",
     "text": [
      "(191, 191, 1)\n",
      "(191, 191, 1)\n"
     ]
    },
    {
     "name": "stderr",
     "output_type": "stream",
     "text": [
      "14989it [00:03, 4145.67it/s]"
     ]
    },
    {
     "name": "stdout",
     "output_type": "stream",
     "text": [
      "(191, 191, 1)\n",
      "(191, 191, 1)\n",
      "(191, 191, 1)\n"
     ]
    },
    {
     "name": "stderr",
     "output_type": "stream",
     "text": [
      "16560it [00:03, 4142.63it/s]"
     ]
    },
    {
     "name": "stdout",
     "output_type": "stream",
     "text": [
      "(191, 191, 1)\n"
     ]
    },
    {
     "name": "stderr",
     "output_type": "stream",
     "text": [
      "\n"
     ]
    }
   ],
   "source": [
    "#############################################\n",
    "##### Standard method using numpy files #####\n",
    "#############################################\n",
    "\n",
    "\n",
    "from tqdm import tqdm\n",
    "\n",
    "\n",
    "\n",
    "print ( \"time reading all files of a particular experiment \")\n",
    "\n",
    "i_o_length = 1\n",
    "pred_horiz = 1\n",
    "scale = 191\n",
    "city = \"london\"\n",
    "\n",
    "prefix = ProcessRaw.file_prefix(city, i_o_length, pred_horiz, scale)\n",
    "sprint (prefix)\n",
    "filename_filtered = [x for x in train_file_list if prefix in x and \"_x\" in x]\n",
    "sprint (filename_filtered[:5])\n",
    "\n",
    "sprint (len(filename_filtered))\n",
    "for _, filename in tqdm(enumerate(filename_filtered)):\n",
    "    m = np.load(filename)\n",
    "    if np.random.rand() < 0.001:\n",
    "        print (m.shape)"
   ]
  },
  {
   "cell_type": "code",
   "execution_count": 5,
   "id": "faaf2713-db45-4af9-b4ee-f0ab6a9b7ed2",
   "metadata": {},
   "outputs": [
    {
     "name": "stderr",
     "output_type": "stream",
     "text": [
      "16560it [00:03, 4283.28it/s]\n"
     ]
    }
   ],
   "source": [
    "import os\n",
    "import shutil\n",
    "import numpy as np\n",
    "\n",
    "\n",
    "#############################################\n",
    "##### Standard method using numpy files #####\n",
    "##### Using a smaller folder size       #####\n",
    "#############################################\n",
    "\n",
    "# List of filenames\n",
    "filenames = list(filename_filtered)\n",
    "\n",
    "# Create temporary folder\n",
    "temp_folder = '/home/niskumar/temp'\n",
    "os.makedirs(temp_folder, exist_ok=True)\n",
    "\n",
    "filenames = [x.split(\"../../../train_data_all_cities/\")[1] for x in filenames]\n",
    "\n",
    "# Copy files to temporary folder\n",
    "for i, filename in enumerate(filename_filtered):\n",
    "    src = filename  # using the longer filename\n",
    "    dst = os.path.join(temp_folder, filenames[i]) # using the shorter name in dst\n",
    "    shutil.copy(src, dst)\n",
    "\n",
    "# Load files using numpy\n",
    "loaded_files = []\n",
    "for _, filename in tqdm(enumerate(filenames)):\n",
    "    file_path = os.path.join(temp_folder, filename)\n",
    "    loaded_file = np.load(file_path)\n",
    "    # loaded_files.append(loaded_file)\n",
    "\n",
    "# Delete temporary folder\n",
    "shutil.rmtree(temp_folder)\n"
   ]
  },
  {
   "cell_type": "code",
   "execution_count": 6,
   "id": "c7a53d3a-313a-4826-9ecf-e4e0980159c7",
   "metadata": {},
   "outputs": [
    {
     "name": "stderr",
     "output_type": "stream",
     "text": [
      "Creating sparse files: 16560it [00:16, 1033.58it/s]\n",
      "Using sparse single iteration: 16560it [00:00, 20288.08it/s]\n",
      "Using sparse, compute both ways: 5it [00:27,  5.42s/it]\n",
      "Using sparse, compute only once: 5it [00:17,  3.51s/it]\n"
     ]
    }
   ],
   "source": [
    "\n",
    "##############################################################################################################\n",
    "##### Using compressed arrays (CSR format) files #############################################################\n",
    "##### Also comparing that the operation gives the same value on expanded vs compressed arrays ################\n",
    "##############################################################################################################\n",
    "\n",
    "\n",
    "import os\n",
    "import shutil\n",
    "import numpy as np\n",
    "from scipy import sparse\n",
    "import pickle\n",
    "\n",
    "# List of filenames\n",
    "filenames = list(filename_filtered)\n",
    "\n",
    "# Create temporary folder\n",
    "temp_folder = '/home/niskumar/temp'\n",
    "os.makedirs(temp_folder, exist_ok=True)\n",
    "\n",
    "filenames = [x.split(\"../../../train_data_all_cities/\")[1] for x in filenames]\n",
    "\n",
    "# Copy files to temporary folder\n",
    "for i, filename in tqdm(enumerate(filename_filtered), desc=\"Creating sparse files\"):\n",
    "    src = filename\n",
    "    dst = os.path.join(temp_folder, filenames[i])\n",
    "    m = np.load(src).flatten()\n",
    "    # print (m.shape)\n",
    "    sparse_m = sparse.csr_matrix(m) \n",
    "    file = open(dst + \".pickle\",'wb') #160kb\n",
    "    pickle.dump(sparse_m, file)\n",
    "\n",
    "    \n",
    "\n",
    "# Load files using numpy\n",
    "loaded_files = []\n",
    "for runs in range(1):\n",
    "    for i, filename in tqdm(enumerate(filenames), \"Using sparse single iteration\"):\n",
    "        file_path = os.path.join(temp_folder, filename)\n",
    "        dst = os.path.join(temp_folder, filenames[i]) \n",
    "        file = open(dst + \".pickle\",'rb') \n",
    "        sparse_m = pickle.load(file)\n",
    "        m = sparse_m.toarray()\n",
    "        # if np.random.rand() < 0.0001:\n",
    "        #     print (m.shape)\n",
    "    \n",
    "    # loaded_files.append(loaded_file)\n",
    "\n",
    "# Delete temporary folder\n",
    "# shutil.rmtree(temp_folder)\n",
    "\n",
    "\n",
    "for runs in tqdm(enumerate(range(5)), desc=\"Using sparse, compute both ways\"):\n",
    "\n",
    "    query_matrix = sparse_m.toarray() # just choose the last one\n",
    "    query_matrix_sparse = sparse_m\n",
    "        \n",
    "    for i, filename in (enumerate(filenames)):\n",
    "        file_path = os.path.join(temp_folder, filename)\n",
    "        dst = os.path.join(temp_folder, filenames[i]) \n",
    "        file = open(dst + \".pickle\",'rb') \n",
    "        new_mat_sparse = pickle.load(file)\n",
    "        new_mat = new_mat_sparse.toarray()\n",
    "\n",
    "        dist_full = np.max(np.abs(query_matrix - new_mat))\n",
    "        dist_sparse = abs((query_matrix_sparse - new_mat_sparse)).max()\n",
    "        assert (dist_full == dist_sparse)\n",
    "        \n",
    "#         if np.random.rand() < 0.0001:\n",
    "#             sprint (new_mat.shape, new_mat_sparse.shape)\n",
    "#             sprint (dist_full)\n",
    "        \n",
    "    \n",
    "for runs in tqdm(enumerate(range(5)), desc=\"Using sparse, compute only once\"):\n",
    "\n",
    "    # query_matrix = sparse_m.toarray() # just choose the last one\n",
    "    query_matrix_sparse = sparse_m\n",
    "        \n",
    "    for i, filename in (enumerate(filenames)):\n",
    "        file_path = os.path.join(temp_folder, filename)\n",
    "        dst = os.path.join(temp_folder, filenames[i]) \n",
    "        file = open(dst + \".pickle\",'rb') \n",
    "        new_mat_sparse = pickle.load(file)\n",
    "        # new_mat = new_mat_sparse.toarray()\n",
    "\n",
    "        # dist_full = np.max(np.abs(query_matrix - new_mat))\n",
    "        dist_sparse = abs((query_matrix_sparse - new_mat_sparse)).max()\n",
    "        # assert (dist_full == dist_sparse)    "
   ]
  },
  {
   "cell_type": "code",
   "execution_count": null,
   "id": "a6db8050-3677-45e1-8b36-bb74f87bbb05",
   "metadata": {},
   "outputs": [],
   "source": []
  },
  {
   "cell_type": "code",
   "execution_count": 21,
   "id": "07f8adc2-4974-4c01-b31b-ed1d5123b99c",
   "metadata": {},
   "outputs": [
    {
     "name": "stderr",
     "output_type": "stream",
     "text": [
      "628it [00:00, 883.86it/s] "
     ]
    },
    {
     "name": "stdout",
     "output_type": "stream",
     "text": [
      "i, j : 0 433\n"
     ]
    },
    {
     "name": "stderr",
     "output_type": "stream",
     "text": [
      "3922it [00:03, 1125.56it/s]"
     ]
    },
    {
     "name": "stdout",
     "output_type": "stream",
     "text": [
      "i, j : 0 3796\n"
     ]
    },
    {
     "name": "stderr",
     "output_type": "stream",
     "text": [
      "9364it [00:07, 1164.65it/s]"
     ]
    },
    {
     "name": "stdout",
     "output_type": "stream",
     "text": [
      "i, j : 0 9220\n"
     ]
    },
    {
     "name": "stderr",
     "output_type": "stream",
     "text": [
      "9968it [00:08, 1120.22it/s]"
     ]
    },
    {
     "name": "stdout",
     "output_type": "stream",
     "text": [
      "i, j : 0 9795\n"
     ]
    },
    {
     "name": "stderr",
     "output_type": "stream",
     "text": [
      "16560it [00:13, 1216.69it/s]\n",
      "13526it [00:10, 1169.55it/s]"
     ]
    },
    {
     "name": "stdout",
     "output_type": "stream",
     "text": [
      "i, j : 1 13274\n"
     ]
    },
    {
     "name": "stderr",
     "output_type": "stream",
     "text": [
      "16560it [00:13, 1242.00it/s]\n",
      "2123it [00:02, 1097.50it/s]"
     ]
    },
    {
     "name": "stdout",
     "output_type": "stream",
     "text": [
      "i, j : 2 1894\n"
     ]
    },
    {
     "name": "stderr",
     "output_type": "stream",
     "text": [
      "16560it [00:13, 1252.76it/s]\n",
      "5019it [00:04, 977.20it/s] "
     ]
    },
    {
     "name": "stdout",
     "output_type": "stream",
     "text": [
      "i, j : 3 4867\n"
     ]
    },
    {
     "name": "stderr",
     "output_type": "stream",
     "text": [
      "16560it [00:14, 1164.14it/s]\n",
      "8887it [00:07, 1240.86it/s]"
     ]
    },
    {
     "name": "stdout",
     "output_type": "stream",
     "text": [
      "i, j : 4 8701\n"
     ]
    },
    {
     "name": "stderr",
     "output_type": "stream",
     "text": [
      "11948it [00:09, 1211.99it/s]"
     ]
    },
    {
     "name": "stdout",
     "output_type": "stream",
     "text": [
      "i, j : 4 11756\n"
     ]
    },
    {
     "name": "stderr",
     "output_type": "stream",
     "text": [
      "16560it [00:13, 1264.17it/s]\n"
     ]
    },
    {
     "name": "stdout",
     "output_type": "stream",
     "text": [
      "distances.shape : (16560, 16560)\n"
     ]
    }
   ],
   "source": [
    "# ! pip uninstall torch\n",
    "# ! pip install torch\n",
    "\n",
    "##############################################################################################################\n",
    "##### Using compressed arrays (CSR format) files #############################################################\n",
    "##### Using a dataloader on top of the compressed format  ####################################################\n",
    "##### Using 3 threads  #######################################################################################\n",
    "##############################################################################################################\n",
    "\n",
    "\n",
    "import numpy as np\n",
    "from torch.utils.data import Dataset, DataLoader\n",
    "import matplotlib.pyplot as plt\n",
    "from scipy.spatial import minkowski_distance_p\n",
    "from tqdm import tqdm\n",
    "import torch\n",
    "\n",
    "# def get_file_name_from_int(n, prefix):\n",
    "#     # query_point_fname = prefix + str(n) + \"_x.npy\"\n",
    "#     return query_point_fname\n",
    "\n",
    "def l_inf_distance(query_point_array, neighbour_x_array):\n",
    "    mse = torch.max(torch.abs(query_point_array - neighbour_x_array))\n",
    "    return mse\n",
    "\n",
    "class FileDataset(Dataset):\n",
    "    def __init__(self, integer_list, prefix, folderpath):\n",
    "        self.integer_list = integer_list\n",
    "        self.prefix = prefix\n",
    "        # self.folderpath = folderpath\n",
    "\n",
    "    def __len__(self):\n",
    "        return len(self.integer_list)\n",
    "\n",
    "    def __getitem__(self, index):\n",
    "        integer = self.integer_list[index]\n",
    "        # filename = get_file_name_from_int(integer, self.prefix)\n",
    "        dst = os.path.join(\"/home/niskumar/temp\", integer) \n",
    "        file = open(dst + \".pickle\",'rb') \n",
    "        new_mat_sparse = pickle.load(file)\n",
    "        \n",
    "        # Standard numpy (commented out below)\n",
    "        # data = np.load(os.path.join(\"/home/niskumar/temp\", integer))\n",
    "        # sprint (filename)\n",
    "        # sprint (torch.from_numpy((new_mat_sparse.to_array())).shape)\n",
    "        \n",
    "        return torch.from_numpy(new_mat_sparse.toarray())\n",
    "\n",
    "\n",
    "def create_distance_matrix(integer_list, prefix, folderpath):\n",
    "    dataset = FileDataset(integer_list, prefix, folderpath)\n",
    "\n",
    "    dataloader = DataLoader(dataset, batch_size=1, shuffle=True, num_workers=32)\n",
    "\n",
    "    N = len(integer_list)\n",
    "    matrix = np.zeros((N, N))\n",
    "\n",
    "    count_outer = 0\n",
    "    for i, file1 in (enumerate(dataloader)):\n",
    "        for j, file2 in tqdm(enumerate(dataloader)):\n",
    "            file1 = file1# .squeeze()  # Remove batch dimension\n",
    "            file2 = file2# .squeeze()\n",
    "\n",
    "            if np.random.rand() < 0.0001:\n",
    "                sprint (i, j)\n",
    "            # Assign the mse value to the matrix entry\n",
    "            matrix[i, j] = l_inf_distance(file1, file2)\n",
    "\n",
    "        count_outer += 1\n",
    "        # we compute only for 5 rows of the matrix to get an estimate\n",
    "        if count_outer >= 5:\n",
    "            break\n",
    "\n",
    "    # Return the resulting matrix\n",
    "    return matrix\n",
    "\n",
    "distances = create_distance_matrix(filenames, prefix, \\\n",
    "                                                       \"../../../train_data_all_cities/\")\n",
    "sprint (distances.shape)"
   ]
  },
  {
   "cell_type": "code",
   "execution_count": 22,
   "id": "57f49d1b-6ebf-4dcc-9f5e-e535606d5b77",
   "metadata": {},
   "outputs": [
    {
     "data": {
      "image/png": "[encoded data removed]",
      "text/plain": [
       "<Figure size 640x480 with 2 Axes>"
      ]
     },
     "metadata": {},
     "output_type": "display_data"
    }
   ],
   "source": [
    "plt.imshow(distances[:10,:], aspect=10000/10, interpolation='none')\n",
    "plt.colorbar()\n",
    "plt.show()"
   ]
  },
  {
   "cell_type": "code",
   "execution_count": 23,
   "id": "ab0f67fc-eb48-4959-b088-79925b032b11",
   "metadata": {},
   "outputs": [
    {
     "name": "stdout",
     "output_type": "stream",
     "text": [
      "len(train_file_list_filtered) : 16560\n"
     ]
    },
    {
     "name": "stderr",
     "output_type": "stream",
     "text": [
      "16560it [00:11, 1427.18it/s]\n",
      "16560it [00:10, 1517.84it/s]\n",
      "16560it [00:11, 1469.87it/s]\n",
      "16560it [00:10, 1512.29it/s]\n",
      "16560it [00:11, 1463.63it/s]\n"
     ]
    }
   ],
   "source": [
    "# ! pip uninstall torch\n",
    "# ! pip install torch\n",
    "\n",
    "\n",
    "##############################################################################################################\n",
    "##### Using compressed arrays (CSR format) files #############################################################\n",
    "##### Using a dataloader on top of the UN-compressed npy files  ##############################################\n",
    "##### Using 3 threads  #######################################################################################\n",
    "##############################################################################################################\n",
    "\n",
    "\n",
    "# Pytorch data loader using standard numpy \n",
    "\n",
    "\n",
    "import numpy as np\n",
    "from torch.utils.data import Dataset, DataLoader\n",
    "import matplotlib.pyplot as plt\n",
    "from scipy.spatial import minkowski_distance_p\n",
    "from tqdm import tqdm\n",
    "import torch\n",
    "\n",
    "def get_file_name_from_int(n, prefix):\n",
    "    query_point_fname = prefix + str(n) + \"_x.npy\"\n",
    "    return query_point_fname\n",
    "\n",
    "def l_inf_distance(query_point_array, neighbour_x_array):\n",
    "    # sprint (query_point_array.shape, neighbour_x_array.shape)\n",
    "    mse = torch.max(torch.abs(query_point_array - neighbour_x_array))\n",
    "    return mse\n",
    "\n",
    "class FileDataset(Dataset):\n",
    "    def __init__(self, integer_list, prefix, folderpath):\n",
    "        self.integer_list = integer_list\n",
    "        self.prefix = prefix\n",
    "        self.folderpath = folderpath\n",
    "\n",
    "    def __len__(self):\n",
    "        return len(self.integer_list)\n",
    "\n",
    "    def __getitem__(self, index):\n",
    "        integer = self.integer_list[index]\n",
    "        filename = get_file_name_from_int(integer, self.prefix)\n",
    "        data = np.load(os.path.join(self.folderpath, filename))\n",
    "        # sprint (filename)\n",
    "        return data\n",
    "\n",
    "\n",
    "def create_distance_matrix(integer_list, prefix, folderpath):\n",
    "    dataset = FileDataset(integer_list, prefix, folderpath)\n",
    "\n",
    "    dataloader = DataLoader(dataset, batch_size=1, shuffle=True, num_workers=32)\n",
    "\n",
    "    N = len(integer_list)\n",
    "    matrix = np.zeros((N, N))\n",
    "\n",
    "    count_outer = 0\n",
    "    for i, file1 in (enumerate(dataloader)):\n",
    "        for j, file2 in tqdm(enumerate(dataloader)):\n",
    "            file1 = file1# .squeeze()  # Remove batch dimension\n",
    "            file2 = file2# .squeeze()\n",
    "\n",
    "            # Assign the mse value to the matrix entry\n",
    "            matrix[i, j] = l_inf_distance(file1, file2)\n",
    "\n",
    "        count_outer += 1\n",
    "        # we compute only for 5 rows of the matrix to get an estimate\n",
    "        if count_outer >= 5:\n",
    "            break\n",
    "            \n",
    "    # Return the resulting matrix\n",
    "    return matrix\n",
    "\n",
    "for city in config.city_list:\n",
    "\n",
    "    # pred_horiz\n",
    "    for N in [16000]:\n",
    "        hist_list = []\n",
    "        colors = [\"#FF0000\", \"#FF3300\", \"#FF6600\", \"#FF9900\", \"#FFCC00\", \"#FFFF00\", \"#CCE600\", \"#99CC00\", \"#66B200\", \"#339900\"]\n",
    "        for scale in config.scales_def:\n",
    "            for i_o_length in config.i_o_lengths_def:\n",
    "                for index, pred_horiz in enumerate(config.pred_horiz_def):\n",
    "                    prefix = ProcessRaw.file_prefix(city, i_o_length, pred_horiz, scale)\n",
    "                    # sprint (prefix)\n",
    "                    train_file_list_filtered = [x for x in train_file_list if (prefix in x and \"_x.npy\" in x)]\n",
    "                    sprint (len(train_file_list_filtered))\n",
    "                    \n",
    "                    file_num_filtered = [int(x.split(prefix)[1].split(\"_\")[0]) for x in train_file_list_filtered]\n",
    "                    list.sort(file_num_filtered)\n",
    "                    distances = create_distance_matrix(file_num_filtered, prefix, \\\n",
    "                                                       \"../../../train_data_all_cities/\")\n",
    "\n",
    "         "
   ]
  },
  {
   "cell_type": "code",
   "execution_count": 24,
   "id": "9cb2a1d5-0594-4f64-88d2-c0d6e1f68333",
   "metadata": {},
   "outputs": [
    {
     "data": {
      "image/png": "[encoded data removed]",
      "text/plain": [
       "<Figure size 640x480 with 2 Axes>"
      ]
     },
     "metadata": {},
     "output_type": "display_data"
    }
   ],
   "source": [
    "plt.imshow(distances[:10,:], aspect=10000/10, interpolation='none')\n",
    "plt.colorbar()\n",
    "plt.show()           "
   ]
  },
  {
   "cell_type": "code",
   "execution_count": null,
   "id": "41ba89ea-f7bc-4b22-828d-4f4738ca1f84",
   "metadata": {},
   "outputs": [],
   "source": []
  },
  {
   "cell_type": "code",
   "execution_count": null,
   "id": "4ff0d08d-80a3-4938-b5d1-9ef1c7c12315",
   "metadata": {},
   "outputs": [],
   "source": []
  },
  {
   "cell_type": "code",
   "execution_count": null,
   "id": "9d11167c-f9ab-4da6-99c0-4fea86039d2e",
   "metadata": {},
   "outputs": [],
   "source": []
  },
  {
   "cell_type": "code",
   "execution_count": null,
   "id": "140080bc-1265-4835-a655-a97a7a9f3644",
   "metadata": {},
   "outputs": [],
   "source": []
  },
  {
   "cell_type": "code",
   "execution_count": null,
   "id": "45b727e2-b398-4ea1-b13b-10341496fce8",
   "metadata": {},
   "outputs": [],
   "source": [
    "\n",
    "\n",
    "\n"
   ]
  },
  {
   "cell_type": "code",
   "execution_count": null,
   "id": "7f9c5c01-9a37-4772-bb3e-45e7924c004e",
   "metadata": {},
   "outputs": [],
   "source": []
  },
  {
   "cell_type": "code",
   "execution_count": null,
   "id": "abd8d3cf-5001-454a-b204-91663df0befc",
   "metadata": {},
   "outputs": [],
   "source": []
  }
 ],
 "metadata": {
  "kernelspec": {
   "display_name": "Python 3 (ipykernel)",
   "language": "python",
   "name": "python3"
  },
  "language_info": {
   "codemirror_mode": {
    "name": "ipython",
    "version": 3
   },
   "file_extension": ".py",
   "mimetype": "text/x-python",
   "name": "python",
   "nbconvert_exporter": "python",
   "pygments_lexer": "ipython3",
   "version": "3.9.16"
  }
 },
 "nbformat": 4,
 "nbformat_minor": 5
}
