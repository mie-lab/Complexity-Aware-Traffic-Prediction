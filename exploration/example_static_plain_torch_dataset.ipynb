{
 "cells": [
  {
   "cell_type": "code",
   "execution_count": 1,
   "id": "4afa8f79",
   "metadata": {
    "lines_to_next_cell": 0
   },
   "outputs": [],
   "source": [
    "#  Copyright 2022 Institute of Advanced Research in Artificial Intelligence (IARAI) GmbH.\n",
    "#  IARAI licenses this file to You under the Apache License, Version 2.0\n",
    "#  (the \"License\"); you may not use this file except in compliance with\n",
    "#  the License. You may obtain a copy of the License at\n",
    "#  http://www.apache.org/licenses/LICENSE-2.0\n",
    "#  Unless required by applicable law or agreed to in writing, software\n",
    "#  distributed under the License is distributed on an \"AS IS\" BASIS,\n",
    "#  WITHOUT WARRANTIES OR CONDITIONS OF ANY KIND, either express or implied.\n",
    "#  See the License for the specific language governing permissions and\n",
    "#  limitations under the License."
   ]
  },
  {
   "cell_type": "code",
   "execution_count": 2,
   "id": "20cdc7a3",
   "metadata": {},
   "outputs": [],
   "source": [
    "import os\n",
    "import sys"
   ]
  },
  {
   "cell_type": "code",
   "execution_count": 3,
   "id": "7ffa3fa8",
   "metadata": {},
   "outputs": [],
   "source": [
    "# Alternatevly, in order to make the module imports work properly set PYTHONPATH=$PWD before launching the notebook server from the repo root folder.\n",
    "sys.path.insert(0, os.path.abspath(\"../\"))  # noqa:E402"
   ]
  },
  {
   "cell_type": "markdown",
   "id": "0efd76ea",
   "metadata": {
    "lines_to_next_cell": 2
   },
   "source": [
    "![t4c20logo](../t4c20logo.png)"
   ]
  },
  {
   "cell_type": "code",
   "execution_count": 4,
   "id": "c2676a83",
   "metadata": {},
   "outputs": [],
   "source": [
    "from IPython.core.display import HTML\n",
    "from IPython.display import display\n",
    "from pathlib import Path\n",
    "import torch\n",
    "import numpy as np\n",
    "import t4c22\n",
    "import tqdm\n",
    "from t4c22.misc.t4c22_logging import t4c_apply_basic_logging_config\n",
    "from t4c22.t4c22_config import class_fractions\n",
    "from t4c22.t4c22_config import load_basedir\n",
    "from t4c22.t4c22_config import load_cc_labels\n",
    "from t4c22.dataloading.t4c22_dataset import T4c22Dataset\n",
    "from t4c22.metric.masked_crossentropy import get_weights_from_class_fractions\n",
    "from t4c22.misc.notebook_helpers import restartkernel # noqa:E402,F811"
   ]
  },
  {
   "cell_type": "code",
   "execution_count": 5,
   "id": "5be92c98",
   "metadata": {},
   "outputs": [
    {
     "name": "stdout",
     "output_type": "stream",
     "text": [
      "The time module is not an IPython extension.\n"
     ]
    },
    {
     "data": {
      "application/javascript": [
       "IPython.notebook.set_autosave_interval(60000)"
      ]
     },
     "metadata": {},
     "output_type": "display_data"
    },
    {
     "name": "stdout",
     "output_type": "stream",
     "text": [
      "Autosaving every 60 seconds\n"
     ]
    },
    {
     "data": {
      "text/html": [
       "<style>.container { width:80% !important; }</style>"
      ],
      "text/plain": [
       "<IPython.core.display.HTML object>"
      ]
     },
     "metadata": {},
     "output_type": "display_data"
    }
   ],
   "source": [
    "%matplotlib inline\n",
    "%load_ext autoreload\n",
    "%load_ext time\n",
    "%autoreload 2\n",
    "%autosave 60\n",
    "\n",
    "display(HTML(\"<style>.container { width:80% !important; }</style>\"))"
   ]
  },
  {
   "cell_type": "code",
   "execution_count": 6,
   "id": "748adbbb",
   "metadata": {},
   "outputs": [],
   "source": [
    "t4c_apply_basic_logging_config(loglevel=\"DEBUG\")"
   ]
  },
  {
   "cell_type": "code",
   "execution_count": 7,
   "id": "f3e616a5",
   "metadata": {
    "lines_to_next_cell": 2
   },
   "outputs": [],
   "source": [
    "# load BASEDIR from file, change to your data root\n",
    "BASEDIR = load_basedir(fn=\"t4c22_config.json\", pkg=t4c22)"
   ]
  },
  {
   "cell_type": "markdown",
   "id": "78a46830",
   "metadata": {
    "lines_to_next_cell": 2
   },
   "source": [
    "## Dummy baselines"
   ]
  },
  {
   "cell_type": "code",
   "execution_count": 8,
   "id": "5b44c2a9",
   "metadata": {},
   "outputs": [],
   "source": [
    "device = 0\n",
    "device = f\"cuda:{device}\" if torch.cuda.is_available() else \"cpu\"\n",
    "device = torch.device(device)"
   ]
  },
  {
   "cell_type": "code",
   "execution_count": 9,
   "id": "9b8ef707",
   "metadata": {},
   "outputs": [],
   "source": [
    "def evaluate_static_baseline(city, ds, probas):\n",
    "    # get weights for cross entropy\n",
    "    city_class_fractions = class_fractions[city]\n",
    "    city_class_weights = torch.tensor(get_weights_from_class_fractions([city_class_fractions[c] for c in [\"green\", \"yellow\", \"red\"]])).float()\n",
    "\n",
    "\n",
    "    # get true labels    \n",
    "    y_list = [y for _, y in tqdm.notebook.tqdm(train_dataset, total=len(train_dataset))]\n",
    "\n",
    "    y = torch.cat(y_list, 0)\n",
    "    y = y.nan_to_num(-1)\n",
    "    y = y.long()\n",
    "\n",
    "    # get logits for green, yellow, red\n",
    "    y_hat = static_baseline(len(y), probas)\n",
    "    \n",
    "    # compute loss\n",
    "    loss_f = torch.nn.CrossEntropyLoss(weight=city_class_weights, ignore_index=-1)\n",
    "    \n",
    "    loss_f = loss_f.to(device)\n",
    "    y_hat = y_hat.to(device)\n",
    "    y = y.to(device)\n",
    "    \n",
    "    loss = loss_f(y_hat, y)\n",
    "    print(f\"{city} {probas}: {loss.cpu().numpy()}\")"
   ]
  },
  {
   "cell_type": "code",
   "execution_count": 10,
   "id": "cf3f3525",
   "metadata": {},
   "outputs": [],
   "source": [
    "def static_baseline(num, probas):\n",
    "    logits = [np.log(p + 0.0000000000000000001) for p in probas]\n",
    "    return torch.tensor([logits] * num).float()"
   ]
  },
  {
   "cell_type": "markdown",
   "id": "0fd05796",
   "metadata": {},
   "source": [
    "### London"
   ]
  },
  {
   "cell_type": "code",
   "execution_count": 11,
   "id": "584f9c28",
   "metadata": {},
   "outputs": [],
   "source": [
    "city = \"london\""
   ]
  },
  {
   "cell_type": "code",
   "execution_count": 12,
   "id": "660bf188",
   "metadata": {},
   "outputs": [],
   "source": [
    "train_dataset = T4c22Dataset(root=BASEDIR, city=city, split=\"train\", cachedir=Path(\"/tmp/processed\"), limit=200)"
   ]
  },
  {
   "cell_type": "code",
   "execution_count": 13,
   "id": "ca906ece",
   "metadata": {},
   "outputs": [
    {
     "data": {
      "application/vnd.jupyter.widget-view+json": {
       "model_id": "70626765ecd94845a4c6e2a2925f9e43",
       "version_major": 2,
       "version_minor": 0
      },
      "text/plain": [
       "  0%|          | 0/200 [00:00<?, ?it/s]"
      ]
     },
     "metadata": {},
     "output_type": "display_data"
    },
    {
     "name": "stdout",
     "output_type": "stream",
     "text": [
      "london [1, 0, 0]: 27.34807014465332\n"
     ]
    }
   ],
   "source": [
    "evaluate_static_baseline(city=city, ds=train_dataset, probas=[1, 0, 0])"
   ]
  },
  {
   "cell_type": "code",
   "execution_count": 14,
   "id": "49823edc",
   "metadata": {},
   "outputs": [
    {
     "data": {
      "application/vnd.jupyter.widget-view+json": {
       "model_id": "5fd15626e7f9402c9be9d846303cddd7",
       "version_major": 2,
       "version_minor": 0
      },
      "text/plain": [
       "  0%|          | 0/200 [00:00<?, ?it/s]"
      ]
     },
     "metadata": {},
     "output_type": "display_data"
    },
    {
     "name": "stdout",
     "output_type": "stream",
     "text": [
      "london [0, 1, 0]: 30.468948364257812\n"
     ]
    }
   ],
   "source": [
    "evaluate_static_baseline(city=city, ds=train_dataset, probas=[0, 1, 0])"
   ]
  },
  {
   "cell_type": "code",
   "execution_count": 15,
   "id": "37546797",
   "metadata": {},
   "outputs": [
    {
     "data": {
      "application/vnd.jupyter.widget-view+json": {
       "model_id": "3972ad9127ef4ccb9a23794c10a7b40d",
       "version_major": 2,
       "version_minor": 0
      },
      "text/plain": [
       "  0%|          | 0/200 [00:00<?, ?it/s]"
      ]
     },
     "metadata": {},
     "output_type": "display_data"
    },
    {
     "name": "stdout",
     "output_type": "stream",
     "text": [
      "london [0, 0, 1]: 29.589311599731445\n"
     ]
    }
   ],
   "source": [
    "evaluate_static_baseline(city=city, ds=train_dataset, probas=[0, 0, 1])"
   ]
  },
  {
   "cell_type": "code",
   "execution_count": 16,
   "id": "73de858f",
   "metadata": {},
   "outputs": [
    {
     "data": {
      "application/vnd.jupyter.widget-view+json": {
       "model_id": "f360bf4e245a4fa89c1c437986fe2e41",
       "version_major": 2,
       "version_minor": 0
      },
      "text/plain": [
       "  0%|          | 0/200 [00:00<?, ?it/s]"
      ]
     },
     "metadata": {},
     "output_type": "display_data"
    },
    {
     "name": "stdout",
     "output_type": "stream",
     "text": [
      "london [0.3333333333333333, 0.3333333333333333, 0.3333333333333333]: 1.0995548963546753\n"
     ]
    }
   ],
   "source": [
    "evaluate_static_baseline(city=city, ds=train_dataset, probas=[1 / 3, 1 / 3, 1 / 3])"
   ]
  },
  {
   "cell_type": "code",
   "execution_count": 17,
   "id": "9b79ef57",
   "metadata": {},
   "outputs": [],
   "source": [
    "# free resources by restarting kernel\n",
    "# restartkernel()"
   ]
  }
 ],
 "metadata": {
  "jupytext": {
   "encoding": "# -*- coding: utf-8 -*-",
   "text_representation": {
    "extension": ".py",
    "format_name": "light",
    "format_version": "1.5",
    "jupytext_version": "1.11.2"
   }
  },
  "kernelspec": {
   "display_name": "Python 3 (ipykernel)",
   "language": "python",
   "name": "python3"
  },
  "language_info": {
   "codemirror_mode": {
    "name": "ipython",
    "version": 3
   },
   "file_extension": ".py",
   "mimetype": "text/x-python",
   "name": "python",
   "nbconvert_exporter": "python",
   "pygments_lexer": "ipython3",
   "version": "3.10.4"
  }
 },
 "nbformat": 4,
 "nbformat_minor": 5
}
