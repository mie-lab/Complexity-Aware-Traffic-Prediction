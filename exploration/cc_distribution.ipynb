{
 "cells": [
  {
   "cell_type": "code",
   "execution_count": 1,
   "id": "796f4b0d",
   "metadata": {
    "lines_to_next_cell": 0
   },
   "outputs": [],
   "source": [
    "#  Copyright 2022 Institute of Advanced Research in Artificial Intelligence (IARAI) GmbH.\n",
    "#  IARAI licenses this file to You under the Apache License, Version 2.0\n",
    "#  (the \"License\"); you may not use this file except in compliance with\n",
    "#  the License. You may obtain a copy of the License at\n",
    "#  http://www.apache.org/licenses/LICENSE-2.0\n",
    "#  Unless required by applicable law or agreed to in writing, software\n",
    "#  distributed under the License is distributed on an \"AS IS\" BASIS,\n",
    "#  WITHOUT WARRANTIES OR CONDITIONS OF ANY KIND, either express or implied.\n",
    "#  See the License for the specific language governing permissions and\n",
    "#  limitations under the License."
   ]
  },
  {
   "cell_type": "code",
   "execution_count": 2,
   "id": "15161a89",
   "metadata": {},
   "outputs": [],
   "source": [
    "import os\n",
    "import sys"
   ]
  },
  {
   "cell_type": "code",
   "execution_count": 3,
   "id": "3a105d74",
   "metadata": {},
   "outputs": [],
   "source": [
    "# Alternatevly, in order to make the module imports work properly set PYTHONPATH=$PWD before launching the notebook server from the repo root folder.\n",
    "sys.path.insert(0, os.path.abspath(\"../\"))  # noqa:E402"
   ]
  },
  {
   "cell_type": "markdown",
   "id": "db1145be",
   "metadata": {
    "lines_to_next_cell": 2
   },
   "source": [
    "![t4c20logo](../t4c20logo.png)"
   ]
  },
  {
   "cell_type": "code",
   "execution_count": 4,
   "id": "30dbdc86",
   "metadata": {},
   "outputs": [],
   "source": [
    "import logging\n",
    "import t4c22\n",
    "from pathlib import Path\n",
    "from typing import Tuple\n",
    "from IPython.core.display import HTML\n",
    "from IPython.display import display\n",
    "\n",
    "from t4c22.t4c22_config import load_basedir, df_filter_weekdays_daytime_only, load_cc_labels"
   ]
  },
  {
   "cell_type": "code",
   "execution_count": 5,
   "id": "2b180a9d",
   "metadata": {},
   "outputs": [
    {
     "name": "stdout",
     "output_type": "stream",
     "text": [
      "The time module is not an IPython extension.\n"
     ]
    },
    {
     "data": {
      "application/javascript": [
       "IPython.notebook.set_autosave_interval(60000)"
      ]
     },
     "metadata": {},
     "output_type": "display_data"
    },
    {
     "name": "stdout",
     "output_type": "stream",
     "text": [
      "Autosaving every 60 seconds\n"
     ]
    },
    {
     "data": {
      "text/html": [
       "<style>.container { width:80% !important; }</style>"
      ],
      "text/plain": [
       "<IPython.core.display.HTML object>"
      ]
     },
     "metadata": {},
     "output_type": "display_data"
    }
   ],
   "source": [
    "%matplotlib inline\n",
    "%load_ext autoreload\n",
    "%load_ext time\n",
    "%autoreload 2\n",
    "%autosave 60\n",
    "\n",
    "display(HTML(\"<style>.container { width:80% !important; }</style>\"))"
   ]
  },
  {
   "cell_type": "code",
   "execution_count": 6,
   "id": "7f12d2a7",
   "metadata": {},
   "outputs": [],
   "source": [
    "# load BASEDIR from file, change to your data root\n",
    "BASEDIR = load_basedir(fn=\"t4c22_config.json\", pkg=t4c22)"
   ]
  },
  {
   "cell_type": "code",
   "execution_count": 7,
   "id": "169bd798",
   "metadata": {},
   "outputs": [],
   "source": [
    "def run_cc_distribution(basedir: Path, city: str, split=\"train\", filter=df_filter_weekdays_daytime_only) -> Tuple[dict, dict]:\n",
    "    \"\"\"Get absolute and relative number of congestion classes for the given\n",
    "    city.\"\"\"\n",
    "    df = load_cc_labels(basedir, split=split, city=city, df_filter=filter)\n",
    "    logging.info(f\"len(df) from file: {len(df)}\")\n",
    "    df = filter(df)\n",
    "    logging.info(f\"len(df) from file after filtering: {len(df)}\")\n",
    "    nums = {c: len(df[df[\"cc\"] == i]) for c, i in [(\"green\", 1), (\"yellow\", 2), (\"red\", 3)]}\n",
    "    ratios = {c: l / len(df) for c, l in nums.items()}\n",
    "    return nums, ratios"
   ]
  },
  {
   "cell_type": "markdown",
   "id": "2a265921",
   "metadata": {},
   "source": [
    "## Get distribution of red, yellow, green from the data to get the class weights"
   ]
  },
  {
   "cell_type": "code",
   "execution_count": 8,
   "id": "a0642ad4",
   "metadata": {},
   "outputs": [
    {
     "data": {
      "text/plain": [
       "({'green': 155232062, 'yellow': 101614181, 'red': 32339248},\n",
       " {'green': 0.5367906303432076,\n",
       "  'yellow': 0.35138063340805714,\n",
       "  'red': 0.11182873624873524})"
      ]
     },
     "execution_count": 8,
     "metadata": {},
     "output_type": "execute_result"
    }
   ],
   "source": [
    "nums, ratios = run_cc_distribution(city=\"london\", split=\"train\", basedir=BASEDIR)\n",
    "nums, ratios"
   ]
  },
  {
   "cell_type": "code",
   "execution_count": 9,
   "id": "064f8be7",
   "metadata": {},
   "outputs": [
    {
     "data": {
      "text/plain": [
       "({'green': 182071624, 'yellow': 140118360, 'red': 43693329},\n",
       " {'green': 0.4976221039083026,\n",
       "  'yellow': 0.3829591430424158,\n",
       "  'red': 0.1194187530492816})"
      ]
     },
     "execution_count": 9,
     "metadata": {},
     "output_type": "execute_result"
    }
   ],
   "source": [
    "nums, ratios = run_cc_distribution(city=\"madrid\", split=\"train\", basedir=BASEDIR)\n",
    "nums, ratios"
   ]
  },
  {
   "cell_type": "code",
   "execution_count": 10,
   "id": "b3bb7483",
   "metadata": {},
   "outputs": [
    {
     "data": {
      "text/plain": [
       "({'green': 61268426, 'yellow': 19406770, 'red': 6615065},\n",
       " {'green': 0.7018930324884697,\n",
       "  'yellow': 0.2223245729555099,\n",
       "  'red': 0.0757823945560204})"
      ]
     },
     "execution_count": 10,
     "metadata": {},
     "output_type": "execute_result"
    }
   ],
   "source": [
    "nums, ratios = run_cc_distribution(city=\"melbourne\", split=\"train\", basedir=BASEDIR)\n",
    "nums, ratios"
   ]
  }
 ],
 "metadata": {
  "jupytext": {
   "encoding": "# -*- coding: utf-8 -*-",
   "text_representation": {
    "extension": ".py",
    "format_name": "light",
    "format_version": "1.5",
    "jupytext_version": "1.11.2"
   }
  },
  "kernelspec": {
   "display_name": "Python 3 (ipykernel)",
   "language": "python",
   "name": "python3"
  },
  "language_info": {
   "codemirror_mode": {
    "name": "ipython",
    "version": 3
   },
   "file_extension": ".py",
   "mimetype": "text/x-python",
   "name": "python",
   "nbconvert_exporter": "python",
   "pygments_lexer": "ipython3",
   "version": "3.10.4"
  }
 },
 "nbformat": 4,
 "nbformat_minor": 5
}
