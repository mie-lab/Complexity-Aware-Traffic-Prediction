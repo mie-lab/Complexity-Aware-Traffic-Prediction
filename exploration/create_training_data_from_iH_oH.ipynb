{
 "cells": [
  {
   "cell_type": "code",
   "execution_count": 4,
   "id": "d98ec411",
   "metadata": {},
   "outputs": [
    {
     "name": "stderr",
     "output_type": "stream",
     "text": [
      "training_data_8_4_1: 100%|████████████████████| 215/215 [00:06<00:00, 33.11it/s]\n"
     ]
    },
    {
     "name": "stdout",
     "output_type": "stream",
     "text": [
      "tcount, vcount : 14760 2870\n",
      "len(glob.glob(training_folder+\"/*_x.npy\")), len(glob.glob(training_folder+\"/*_y.npy\")) : 14760 14760\n",
      "len(glob.glob(validation_folder+\"/*_x.npy\")), len(glob.glob(validation_folder+\"/*_y.npy\")) : 2870 2870\n",
      "8_4_1 complete\n"
     ]
    },
    {
     "name": "stderr",
     "output_type": "stream",
     "text": [
      "training_data_8_6_1: 100%|████████████████████| 215/215 [00:06<00:00, 33.60it/s]\n"
     ]
    },
    {
     "name": "stdout",
     "output_type": "stream",
     "text": [
      "tcount, vcount : 14400 2800\n",
      "len(glob.glob(training_folder+\"/*_x.npy\")), len(glob.glob(training_folder+\"/*_y.npy\")) : 14400 14400\n",
      "len(glob.glob(validation_folder+\"/*_x.npy\")), len(glob.glob(validation_folder+\"/*_y.npy\")) : 2800 2800\n"
     ]
    },
    {
     "name": "stderr",
     "output_type": "stream",
     "text": [
      "training_data_8_8_1: 100%|████████████████████| 215/215 [00:06<00:00, 33.26it/s]\n"
     ]
    },
    {
     "name": "stdout",
     "output_type": "stream",
     "text": [
      "tcount, vcount : 14040 2730\n",
      "len(glob.glob(training_folder+\"/*_x.npy\")), len(glob.glob(training_folder+\"/*_y.npy\")) : 14040 14040\n",
      "len(glob.glob(validation_folder+\"/*_x.npy\")), len(glob.glob(validation_folder+\"/*_y.npy\")) : 2730 2730\n"
     ]
    },
    {
     "name": "stderr",
     "output_type": "stream",
     "text": [
      "training_data_8_4_2: 100%|████████████████████| 215/215 [00:06<00:00, 30.74it/s]\n"
     ]
    },
    {
     "name": "stdout",
     "output_type": "stream",
     "text": [
      "tcount, vcount : 14580 2835\n",
      "len(glob.glob(training_folder+\"/*_x.npy\")), len(glob.glob(training_folder+\"/*_y.npy\")) : 14580 14580\n",
      "len(glob.glob(validation_folder+\"/*_x.npy\")), len(glob.glob(validation_folder+\"/*_y.npy\")) : 2835 2835\n"
     ]
    },
    {
     "name": "stderr",
     "output_type": "stream",
     "text": [
      "training_data_8_4_3: 100%|████████████████████| 215/215 [00:07<00:00, 27.62it/s]\n"
     ]
    },
    {
     "name": "stdout",
     "output_type": "stream",
     "text": [
      "tcount, vcount : 14400 2800\n",
      "len(glob.glob(training_folder+\"/*_x.npy\")), len(glob.glob(training_folder+\"/*_y.npy\")) : 14400 14400\n",
      "len(glob.glob(validation_folder+\"/*_x.npy\")), len(glob.glob(validation_folder+\"/*_y.npy\")) : 2800 2800\n"
     ]
    },
    {
     "name": "stderr",
     "output_type": "stream",
     "text": [
      "training_data_8_4_4: 100%|████████████████████| 215/215 [00:08<00:00, 26.79it/s]\n"
     ]
    },
    {
     "name": "stdout",
     "output_type": "stream",
     "text": [
      "tcount, vcount : 14220 2765\n",
      "len(glob.glob(training_folder+\"/*_x.npy\")), len(glob.glob(training_folder+\"/*_y.npy\")) : 14220 14220\n",
      "len(glob.glob(validation_folder+\"/*_x.npy\")), len(glob.glob(validation_folder+\"/*_y.npy\")) : 2765 2765\n"
     ]
    },
    {
     "name": "stderr",
     "output_type": "stream",
     "text": [
      "training_data_8_4_5: 100%|████████████████████| 215/215 [00:08<00:00, 24.83it/s]\n"
     ]
    },
    {
     "name": "stdout",
     "output_type": "stream",
     "text": [
      "tcount, vcount : 14040 2730\n",
      "len(glob.glob(training_folder+\"/*_x.npy\")), len(glob.glob(training_folder+\"/*_y.npy\")) : 14040 14040\n",
      "len(glob.glob(validation_folder+\"/*_x.npy\")), len(glob.glob(validation_folder+\"/*_y.npy\")) : 2730 2730\n"
     ]
    },
    {
     "name": "stderr",
     "output_type": "stream",
     "text": [
      "training_data_8_4_6: 100%|████████████████████| 215/215 [00:08<00:00, 24.03it/s]\n"
     ]
    },
    {
     "name": "stdout",
     "output_type": "stream",
     "text": [
      "tcount, vcount : 13860 2695\n",
      "len(glob.glob(training_folder+\"/*_x.npy\")), len(glob.glob(training_folder+\"/*_y.npy\")) : 13860 13860\n",
      "len(glob.glob(validation_folder+\"/*_x.npy\")), len(glob.glob(validation_folder+\"/*_y.npy\")) : 2695 2695\n"
     ]
    },
    {
     "name": "stderr",
     "output_type": "stream",
     "text": [
      "training_data_8_4_7: 100%|████████████████████| 215/215 [00:09<00:00, 22.81it/s]\n"
     ]
    },
    {
     "name": "stdout",
     "output_type": "stream",
     "text": [
      "tcount, vcount : 13680 2660\n",
      "len(glob.glob(training_folder+\"/*_x.npy\")), len(glob.glob(training_folder+\"/*_y.npy\")) : 13680 13680\n",
      "len(glob.glob(validation_folder+\"/*_x.npy\")), len(glob.glob(validation_folder+\"/*_y.npy\")) : 2660 2660\n"
     ]
    },
    {
     "name": "stderr",
     "output_type": "stream",
     "text": [
      "training_data_8_4_8: 100%|████████████████████| 215/215 [00:10<00:00, 20.98it/s]\n"
     ]
    },
    {
     "name": "stdout",
     "output_type": "stream",
     "text": [
      "tcount, vcount : 13500 2625\n",
      "len(glob.glob(training_folder+\"/*_x.npy\")), len(glob.glob(training_folder+\"/*_y.npy\")) : 13500 13500\n",
      "len(glob.glob(validation_folder+\"/*_x.npy\")), len(glob.glob(validation_folder+\"/*_y.npy\")) : 2625 2625\n"
     ]
    }
   ],
   "source": [
    "import datetime\n",
    "from smartprint import smartprint as sprint \n",
    "\n",
    "start_date = datetime.date(2019, 7, 1)\n",
    "end_date = datetime.date(2020, 1, 31)\n",
    "delta = datetime.timedelta(days=1)\n",
    "\n",
    "dates = []\n",
    "n = 20\n",
    "\n",
    "while start_date <= end_date:\n",
    "    dates.append(start_date.strftime('%Y-%m-%d'))\n",
    "    start_date += delta\n",
    "#     print (dates[-1])\n",
    "\n",
    "\n",
    "\n",
    "\n",
    "\n",
    "from tqdm import tqdm\n",
    "def ih_oh_data_points(ih = 8, ph = 4, oh=1, training_dates=set([]), \\\n",
    "                      validation_dates=set([]), fnames=\"\", training_folder=\"\"\\\n",
    "                      , validation_folder=\"\"):\n",
    "    \"\"\"\n",
    "    ih: input horizon\n",
    "    ph: prediction horizon\n",
    "    oh: output horizon\n",
    "    \"\"\"\n",
    "    list.sort(fnames)\n",
    "#     print (fnames)\n",
    "    tcount = 0\n",
    "    vcount = 0 \n",
    "    for i in tqdm(range(len(fnames)), desc=training_folder):\n",
    "        f = fnames[i]\n",
    "        m = np.load(f)\n",
    "#         print (m.shape)\n",
    "        if f.split(\"data_samples\")[1][1:11] in training_dates:\n",
    "            for j in range(ih, 96-(oh+ph+1)):\n",
    "                tcount += 1\n",
    "                x = m[:, :, j-ih:j]\n",
    "                y = m[:, :, j+ph:j+ph+oh]\n",
    "                \n",
    "#                 r = int(np.random.rand() * 10000000000)\n",
    "                r = tcount \n",
    "                np.save(training_folder+ \"/\" + str(r) + \"_x.npy\", x)\n",
    "                np.save(training_folder +\"/\" + str(r) + \"_y.npy\", y)\n",
    "                \n",
    "        elif f.split(\"data_samples\")[1][1:11] in validation_dates:\n",
    "            for j in range(ih, 96-(oh+ph+1)):\n",
    "                vcount += 1\n",
    "                x = m[:, :, j-ih:j]\n",
    "                y = m[:, :, j+ph:j+ph+oh]\n",
    "                \n",
    "#                 r = int(np.random.rand() * 10000000000)\n",
    "                r = vcount \n",
    "                np.save(validation_folder + \"/\" + str(r) + \"_x.npy\", x)\n",
    "                np.save(validation_folder + \"/\" + str(r) + \"_y.npy\", y)\n",
    "    sprint (tcount, vcount)\n",
    "    sprint (len(glob.glob(training_folder+\"/*_x.npy\")), len(glob.glob(training_folder+\"/*_y.npy\")))\n",
    "    sprint (len(glob.glob(validation_folder+\"/*_x.npy\")), len(glob.glob(validation_folder+\"/*_y.npy\")))\n",
    "    \n",
    "    \n",
    "\n",
    "import numpy as np \n",
    "import glob\n",
    "\n",
    "fnames = glob.glob(\"data_samples/*32x32x96.npy\")\n",
    "\n",
    "training_dates = set(dates[:180])\n",
    "validation_dates = set(dates[180:])\n",
    "\n",
    "\n",
    "! rm -rf training_data_8_4_1\n",
    "! rm -rf validation_data_8_4_1    \n",
    "! mkdir training_data_8_4_1\n",
    "! mkdir validation_data_8_4_1\n",
    "ih_oh_data_points(8, 4, 1, training_dates, validation_dates, fnames, \"training_data_8_4_1\", \"validation_data_8_4_1\")\n",
    "print (\"8_4_1 complete\")\n",
    "\n",
    "! rm -rf training_data_8_6_1\n",
    "! rm -rf validation_data_8_6_1    \n",
    "! mkdir training_data_8_6_1\n",
    "! mkdir validation_data_8_6_1\n",
    "ih_oh_data_points(8, 6, 1, training_dates, validation_dates, fnames, \"training_data_8_6_1\", \"validation_data_8_6_1\")\n",
    "\n",
    "\n",
    "! rm -rf training_data_8_8_1\n",
    "! rm -rf validation_data_8_8_1    \n",
    "! mkdir training_data_8_8_1\n",
    "! mkdir validation_data_8_8_1\n",
    "ih_oh_data_points(8, 8, 1, training_dates, validation_dates, fnames, \"training_data_8_8_1\", \"validation_data_8_8_1\")\n",
    "\n",
    "\n",
    "! rm -rf training_data_8_4_2\n",
    "! rm -rf validation_data_8_4_2\n",
    "! mkdir training_data_8_4_2\n",
    "! mkdir validation_data_8_4_2\n",
    "ih_oh_data_points(8, 4, 2, training_dates, validation_dates, fnames, \"training_data_8_4_2\", \"validation_data_8_4_2\")\n",
    "\n",
    "\n",
    "! rm -rf training_data_8_4_3\n",
    "! rm -rf validation_data_8_4_3\n",
    "! mkdir training_data_8_4_3\n",
    "! mkdir validation_data_8_4_3\n",
    "ih_oh_data_points(8, 4, 3, training_dates, validation_dates, fnames, \"training_data_8_4_3\", \"validation_data_8_4_3\")\n",
    "\n",
    "! rm -rf training_data_8_4_4\n",
    "! rm -rf validation_data_8_4_4\n",
    "! mkdir training_data_8_4_4\n",
    "! mkdir validation_data_8_4_4\n",
    "ih_oh_data_points(8, 4, 4, training_dates, validation_dates, fnames, \"training_data_8_4_4\", \"validation_data_8_4_4\")\n",
    "\n",
    "! rm -rf training_data_8_4_5\n",
    "! rm -rf validation_data_8_4_5\n",
    "! mkdir training_data_8_4_5\n",
    "! mkdir validation_data_8_4_5\n",
    "ih_oh_data_points(8, 4, 5, training_dates, validation_dates, fnames, \"training_data_8_4_5\", \"validation_data_8_4_5\")\n",
    "\n",
    "! rm -rf training_data_8_4_6\n",
    "! rm -rf validation_data_8_4_6\n",
    "! mkdir training_data_8_4_6\n",
    "! mkdir validation_data_8_4_6\n",
    "ih_oh_data_points(8, 4, 6, training_dates, validation_dates, fnames, \"training_data_8_4_6\", \"validation_data_8_4_6\")\n",
    "\n",
    "! rm -rf training_data_8_4_7\n",
    "! rm -rf validation_data_8_4_7\n",
    "! mkdir training_data_8_4_7\n",
    "! mkdir validation_data_8_4_7\n",
    "ih_oh_data_points(8, 4, 7, training_dates, validation_dates, fnames, \"training_data_8_4_7\", \"validation_data_8_4_7\")\n",
    "\n",
    "! rm -rf training_data_8_4_8\n",
    "! rm -rf validation_data_8_4_8\n",
    "! mkdir training_data_8_4_8\n",
    "! mkdir validation_data_8_4_8\n",
    "ih_oh_data_points(8, 4, 8, training_dates, validation_dates, fnames, \"training_data_8_4_8\", \"validation_data_8_4_8\")\n",
    "\n",
    "\n",
    "\n",
    "\n",
    "# print (fnames)\n",
    "\n",
    "\n"
   ]
  },
  {
   "cell_type": "code",
   "execution_count": 6,
   "id": "65740364",
   "metadata": {},
   "outputs": [
    {
     "data": {
      "text/plain": [
       "'2019-08-12'"
      ]
     },
     "execution_count": 6,
     "metadata": {},
     "output_type": "execute_result"
    }
   ],
   "source": [
    "fnames[0].split(\"data_samples\")[1][1:11]"
   ]
  },
  {
   "cell_type": "code",
   "execution_count": 4,
   "id": "0dd7a8a9",
   "metadata": {},
   "outputs": [
    {
     "data": {
      "text/plain": [
       "['data_samples/2019-08-12-32x32x96.npy',\n",
       " 'data_samples/2019-11-07-32x32x96.npy',\n",
       " 'data_samples/2019-09-18-32x32x96.npy',\n",
       " 'data_samples/2020-01-27-32x32x96.npy',\n",
       " 'data_samples/2019-07-26-32x32x96.npy',\n",
       " 'data_samples/2019-10-24-32x32x96.npy',\n",
       " 'data_samples/2019-08-06-32x32x96.npy',\n",
       " 'data_samples/2019-10-08-32x32x96.npy',\n",
       " 'data_samples/2019-11-05-32x32x96.npy',\n",
       " 'data_samples/2019-11-25-32x32x96.npy',\n",
       " 'data_samples/2019-08-14-32x32x96.npy',\n",
       " 'data_samples/2019-08-15-32x32x96.npy',\n",
       " 'data_samples/2019-10-06-32x32x96.npy',\n",
       " 'data_samples/2020-01-04-32x32x96.npy',\n",
       " 'data_samples/2020-01-25-32x32x96.npy',\n",
       " 'data_samples/2019-07-14-32x32x96.npy',\n",
       " 'data_samples/2020-01-14-32x32x96.npy',\n",
       " 'data_samples/2019-07-31-32x32x96.npy',\n",
       " 'data_samples/2019-09-20-32x32x96.npy',\n",
       " 'data_samples/2019-11-08-32x32x96.npy',\n",
       " 'data_samples/2019-11-23-32x32x96.npy',\n",
       " 'data_samples/2019-09-26-32x32x96.npy',\n",
       " 'data_samples/2019-10-07-32x32x96.npy',\n",
       " 'data_samples/2019-09-09-32x32x96.npy',\n",
       " 'data_samples/2020-01-30-32x32x96.npy',\n",
       " 'data_samples/2020-01-26-32x32x96.npy',\n",
       " 'data_samples/2019-08-22-32x32x96.npy',\n",
       " 'data_samples/2019-11-14-32x32x96.npy',\n",
       " 'data_samples/2019-11-03-32x32x96.npy',\n",
       " 'data_samples/2020-01-02-32x32x96.npy',\n",
       " 'data_samples/2019-09-02-32x32x96.npy',\n",
       " 'data_samples/2020-01-10-32x32x96.npy',\n",
       " 'data_samples/2019-09-07-32x32x96.npy',\n",
       " 'data_samples/2019-07-09-32x32x96.npy',\n",
       " 'data_samples/2019-08-19-32x32x96.npy',\n",
       " 'data_samples/2019-09-01-32x32x96.npy',\n",
       " 'data_samples/2019-12-09-32x32x96.npy',\n",
       " 'data_samples/2020-01-13-32x32x96.npy',\n",
       " 'data_samples/2019-09-23-32x32x96.npy',\n",
       " 'data_samples/2019-10-16-32x32x96.npy',\n",
       " 'data_samples/2019-11-11-32x32x96.npy',\n",
       " 'data_samples/2019-12-15-32x32x96.npy',\n",
       " 'data_samples/2019-09-27-32x32x96.npy',\n",
       " 'data_samples/2019-11-16-32x32x96.npy',\n",
       " 'data_samples/2019-07-12-32x32x96.npy',\n",
       " 'data_samples/2019-12-20-32x32x96.npy',\n",
       " 'data_samples/2019-12-14-32x32x96.npy',\n",
       " 'data_samples/2019-10-23-32x32x96.npy',\n",
       " 'data_samples/2019-09-24-32x32x96.npy',\n",
       " 'data_samples/2019-08-21-32x32x96.npy',\n",
       " 'data_samples/2019-07-22-32x32x96.npy',\n",
       " 'data_samples/2019-10-26-32x32x96.npy',\n",
       " 'data_samples/2019-10-04-32x32x96.npy',\n",
       " 'data_samples/2019-10-28-32x32x96.npy',\n",
       " 'data_samples/2019-08-11-32x32x96.npy',\n",
       " 'data_samples/2020-01-23-32x32x96.npy',\n",
       " 'data_samples/2019-10-18-32x32x96.npy',\n",
       " 'data_samples/2019-08-02-32x32x96.npy',\n",
       " 'data_samples/2019-12-08-32x32x96.npy',\n",
       " 'data_samples/2019-11-18-32x32x96.npy',\n",
       " 'data_samples/2019-07-05-32x32x96.npy',\n",
       " 'data_samples/2019-08-03-32x32x96.npy',\n",
       " 'data_samples/2019-07-27-32x32x96.npy',\n",
       " 'data_samples/2020-01-05-32x32x96.npy',\n",
       " 'data_samples/2020-01-18-32x32x96.npy',\n",
       " 'data_samples/2019-12-03-32x32x96.npy',\n",
       " 'data_samples/2019-09-04-32x32x96.npy',\n",
       " 'data_samples/2020-01-20-32x32x96.npy',\n",
       " 'data_samples/2019-10-17-32x32x96.npy',\n",
       " 'data_samples/2019-07-16-32x32x96.npy',\n",
       " 'data_samples/2019-08-10-32x32x96.npy',\n",
       " 'data_samples/2019-08-08-32x32x96.npy',\n",
       " 'data_samples/2019-07-07-32x32x96.npy',\n",
       " 'data_samples/2019-08-26-32x32x96.npy',\n",
       " 'data_samples/2019-09-17-32x32x96.npy',\n",
       " 'data_samples/2020-01-21-32x32x96.npy',\n",
       " 'data_samples/2019-09-22-32x32x96.npy',\n",
       " 'data_samples/2019-11-01-32x32x96.npy',\n",
       " 'data_samples/2020-01-03-32x32x96.npy',\n",
       " 'data_samples/2019-11-06-32x32x96.npy',\n",
       " 'data_samples/2019-08-31-32x32x96.npy',\n",
       " 'data_samples/2019-08-28-32x32x96.npy',\n",
       " 'data_samples/2019-09-06-32x32x96.npy',\n",
       " 'data_samples/2019-10-01-32x32x96.npy',\n",
       " 'data_samples/2019-12-01-32x32x96.npy',\n",
       " 'data_samples/2020-01-28-32x32x96.npy',\n",
       " 'data_samples/2019-08-17-32x32x96.npy',\n",
       " 'data_samples/2019-12-02-32x32x96.npy',\n",
       " 'data_samples/2019-12-05-32x32x96.npy',\n",
       " 'data_samples/2019-07-25-32x32x96.npy',\n",
       " 'data_samples/2019-09-11-32x32x96.npy',\n",
       " 'data_samples/2019-12-13-32x32x96.npy',\n",
       " 'data_samples/2019-12-21-32x32x96.npy',\n",
       " 'data_samples/2020-01-08-32x32x96.npy',\n",
       " 'data_samples/2019-10-10-32x32x96.npy',\n",
       " 'data_samples/2020-01-29-32x32x96.npy',\n",
       " 'data_samples/2019-12-28-32x32x96.npy',\n",
       " 'data_samples/2019-12-19-32x32x96.npy',\n",
       " 'data_samples/2019-11-20-32x32x96.npy',\n",
       " 'data_samples/2019-07-19-32x32x96.npy',\n",
       " 'data_samples/2019-10-13-32x32x96.npy',\n",
       " 'data_samples/2020-01-17-32x32x96.npy',\n",
       " 'data_samples/2019-07-03-32x32x96.npy',\n",
       " 'data_samples/2019-12-30-32x32x96.npy',\n",
       " 'data_samples/2019-12-04-32x32x96.npy',\n",
       " 'data_samples/2019-07-04-32x32x96.npy',\n",
       " 'data_samples/2019-08-23-32x32x96.npy',\n",
       " 'data_samples/2020-01-16-32x32x96.npy',\n",
       " 'data_samples/2019-10-31-32x32x96.npy',\n",
       " 'data_samples/2019-12-26-32x32x96.npy',\n",
       " 'data_samples/2020-01-06-32x32x96.npy',\n",
       " 'data_samples/2020-01-12-32x32x96.npy',\n",
       " 'data_samples/2019-08-16-32x32x96.npy',\n",
       " 'data_samples/2019-10-21-32x32x96.npy',\n",
       " 'data_samples/2019-09-30-32x32x96.npy',\n",
       " 'data_samples/2019-09-13-32x32x96.npy',\n",
       " 'data_samples/2019-07-24-32x32x96.npy',\n",
       " 'data_samples/2019-09-14-32x32x96.npy',\n",
       " 'data_samples/2019-08-04-32x32x96.npy',\n",
       " 'data_samples/2019-11-10-32x32x96.npy',\n",
       " 'data_samples/2020-01-09-32x32x96.npy',\n",
       " 'data_samples/2019-07-28-32x32x96.npy',\n",
       " 'data_samples/2019-09-21-32x32x96.npy',\n",
       " 'data_samples/2019-10-19-32x32x96.npy',\n",
       " 'data_samples/2019-10-12-32x32x96.npy',\n",
       " 'data_samples/2019-10-29-32x32x96.npy',\n",
       " 'data_samples/2019-12-10-32x32x96.npy',\n",
       " 'data_samples/2019-12-31-32x32x96.npy',\n",
       " 'data_samples/2019-11-30-32x32x96.npy',\n",
       " 'data_samples/2019-07-06-32x32x96.npy',\n",
       " 'data_samples/2019-10-15-32x32x96.npy',\n",
       " 'data_samples/2019-08-27-32x32x96.npy',\n",
       " 'data_samples/2019-09-05-32x32x96.npy',\n",
       " 'data_samples/2020-01-07-32x32x96.npy',\n",
       " 'data_samples/2019-11-26-32x32x96.npy',\n",
       " 'data_samples/2019-09-15-32x32x96.npy',\n",
       " 'data_samples/2020-01-22-32x32x96.npy',\n",
       " 'data_samples/2019-08-29-32x32x96.npy',\n",
       " 'data_samples/2019-12-25-32x32x96.npy',\n",
       " 'data_samples/2020-01-01-32x32x96.npy',\n",
       " 'data_samples/2019-09-29-32x32x96.npy',\n",
       " 'data_samples/2019-11-09-32x32x96.npy',\n",
       " 'data_samples/2019-12-11-32x32x96.npy',\n",
       " 'data_samples/2019-07-18-32x32x96.npy',\n",
       " 'data_samples/2020-01-11-32x32x96.npy',\n",
       " 'data_samples/2019-12-27-32x32x96.npy',\n",
       " 'data_samples/2019-07-08-32x32x96.npy',\n",
       " 'data_samples/2020-01-31-32x32x96.npy',\n",
       " 'data_samples/2019-08-24-32x32x96.npy',\n",
       " 'data_samples/2019-11-29-32x32x96.npy',\n",
       " 'data_samples/2019-08-25-32x32x96.npy',\n",
       " 'data_samples/2019-09-08-32x32x96.npy',\n",
       " 'data_samples/2019-10-03-32x32x96.npy',\n",
       " 'data_samples/2019-07-01-32x32x96.npy',\n",
       " 'data_samples/2020-01-19-32x32x96.npy',\n",
       " 'data_samples/2019-07-13-32x32x96.npy',\n",
       " 'data_samples/2019-10-25-32x32x96.npy',\n",
       " 'data_samples/2019-11-24-32x32x96.npy',\n",
       " 'data_samples/2019-11-12-32x32x96.npy',\n",
       " 'data_samples/2019-10-02-32x32x96.npy',\n",
       " 'data_samples/2019-12-23-32x32x96.npy',\n",
       " 'data_samples/2019-11-27-32x32x96.npy',\n",
       " 'data_samples/2019-12-12-32x32x96.npy',\n",
       " 'data_samples/2019-10-20-32x32x96.npy',\n",
       " 'data_samples/2019-11-04-32x32x96.npy',\n",
       " 'data_samples/2019-08-09-32x32x96.npy',\n",
       " 'data_samples/2019-09-03-32x32x96.npy',\n",
       " 'data_samples/2019-07-17-32x32x96.npy',\n",
       " 'data_samples/2019-08-05-32x32x96.npy',\n",
       " 'data_samples/2019-12-17-32x32x96.npy',\n",
       " 'data_samples/2019-09-16-32x32x96.npy',\n",
       " 'data_samples/2020-01-24-32x32x96.npy',\n",
       " 'data_samples/2019-11-15-32x32x96.npy',\n",
       " 'data_samples/2019-07-11-32x32x96.npy',\n",
       " 'data_samples/2019-12-29-32x32x96.npy',\n",
       " 'data_samples/2019-10-30-32x32x96.npy',\n",
       " 'data_samples/2019-11-28-32x32x96.npy',\n",
       " 'data_samples/2019-12-18-32x32x96.npy',\n",
       " 'data_samples/2019-12-06-32x32x96.npy',\n",
       " 'data_samples/2019-08-20-32x32x96.npy',\n",
       " 'data_samples/2019-12-22-32x32x96.npy',\n",
       " 'data_samples/2019-08-01-32x32x96.npy',\n",
       " 'data_samples/2019-08-18-32x32x96.npy',\n",
       " 'data_samples/2019-11-13-32x32x96.npy',\n",
       " 'data_samples/2019-10-14-32x32x96.npy',\n",
       " 'data_samples/2019-09-19-32x32x96.npy',\n",
       " 'data_samples/2019-11-22-32x32x96.npy',\n",
       " 'data_samples/2019-12-07-32x32x96.npy',\n",
       " 'data_samples/2019-10-22-32x32x96.npy',\n",
       " 'data_samples/2019-12-24-32x32x96.npy',\n",
       " 'data_samples/2019-11-19-32x32x96.npy',\n",
       " 'data_samples/2019-09-28-32x32x96.npy',\n",
       " 'data_samples/2019-08-13-32x32x96.npy',\n",
       " 'data_samples/2019-10-09-32x32x96.npy',\n",
       " 'data_samples/2019-08-30-32x32x96.npy',\n",
       " 'data_samples/2019-11-17-32x32x96.npy',\n",
       " 'data_samples/2019-07-21-32x32x96.npy',\n",
       " 'data_samples/2019-07-30-32x32x96.npy',\n",
       " 'data_samples/2019-09-10-32x32x96.npy',\n",
       " 'data_samples/2019-07-20-32x32x96.npy',\n",
       " 'data_samples/2019-09-25-32x32x96.npy',\n",
       " 'data_samples/2019-11-21-32x32x96.npy',\n",
       " 'data_samples/2019-09-12-32x32x96.npy',\n",
       " 'data_samples/2019-07-23-32x32x96.npy',\n",
       " 'data_samples/2019-10-27-32x32x96.npy',\n",
       " 'data_samples/2019-11-02-32x32x96.npy',\n",
       " 'data_samples/2019-07-02-32x32x96.npy',\n",
       " 'data_samples/2020-01-15-32x32x96.npy',\n",
       " 'data_samples/2019-10-11-32x32x96.npy',\n",
       " 'data_samples/2019-10-05-32x32x96.npy',\n",
       " 'data_samples/2019-07-15-32x32x96.npy',\n",
       " 'data_samples/2019-12-16-32x32x96.npy',\n",
       " 'data_samples/2019-07-10-32x32x96.npy',\n",
       " 'data_samples/2019-08-07-32x32x96.npy',\n",
       " 'data_samples/2019-07-29-32x32x96.npy']"
      ]
     },
     "execution_count": 4,
     "metadata": {},
     "output_type": "execute_result"
    }
   ],
   "source": [
    "fnames"
   ]
  },
  {
   "cell_type": "code",
   "execution_count": null,
   "id": "bf7b4315",
   "metadata": {},
   "outputs": [],
   "source": []
  }
 ],
 "metadata": {
  "kernelspec": {
   "display_name": "Python 3 (ipykernel)",
   "language": "python",
   "name": "python3"
  },
  "language_info": {
   "codemirror_mode": {
    "name": "ipython",
    "version": 3
   },
   "file_extension": ".py",
   "mimetype": "text/x-python",
   "name": "python",
   "nbconvert_exporter": "python",
   "pygments_lexer": "ipython3",
   "version": "3.9.16"
  }
 },
 "nbformat": 4,
 "nbformat_minor": 5
}
