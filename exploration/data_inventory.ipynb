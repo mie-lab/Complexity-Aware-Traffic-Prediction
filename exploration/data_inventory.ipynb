{
 "cells": [
  {
   "cell_type": "code",
   "execution_count": 1,
   "id": "46486cd7",
   "metadata": {
    "lines_to_next_cell": 0
   },
   "outputs": [],
   "source": [
    "#  Copyright 2022 Institute of Advanced Research in Artificial Intelligence (IARAI) GmbH.\n",
    "#  IARAI licenses this file to You under the Apache License, Version 2.0\n",
    "#  (the \"License\"); you may not use this file except in compliance with\n",
    "#  the License. You may obtain a copy of the License at\n",
    "#  http://www.apache.org/licenses/LICENSE-2.0\n",
    "#  Unless required by applicable law or agreed to in writing, software\n",
    "#  distributed under the License is distributed on an \"AS IS\" BASIS,\n",
    "#  WITHOUT WARRANTIES OR CONDITIONS OF ANY KIND, either express or implied.\n",
    "#  See the License for the specific language governing permissions and\n",
    "#  limitations under the License."
   ]
  },
  {
   "cell_type": "code",
   "execution_count": 2,
   "id": "18764159",
   "metadata": {},
   "outputs": [],
   "source": [
    "import os\n",
    "import sys"
   ]
  },
  {
   "cell_type": "code",
   "execution_count": 3,
   "id": "75229d3d",
   "metadata": {},
   "outputs": [],
   "source": [
    "# Alternatevly, in order to make the module imports work properly set PYTHONPATH=$PWD before launching the notebook server from the repo root folder.\n",
    "sys.path.insert(0, os.path.abspath(\"../\"))  # noqa:E402"
   ]
  },
  {
   "cell_type": "markdown",
   "id": "69c51822",
   "metadata": {
    "lines_to_next_cell": 2
   },
   "source": [
    "![t4c20logo](../t4c20logo.png)"
   ]
  },
  {
   "cell_type": "code",
   "execution_count": 4,
   "id": "a8462ebc",
   "metadata": {},
   "outputs": [],
   "source": [
    "import re\n",
    "\n",
    "import pyarrow as pa\n",
    "import pyarrow.parquet as pq\n",
    "from IPython.core.display import HTML\n",
    "from IPython.display import display\n",
    "from pyarrow.parquet import ParquetFile\n",
    "\n",
    "import t4c22\n",
    "from t4c22.t4c22_config import load_basedir"
   ]
  },
  {
   "cell_type": "code",
   "execution_count": 5,
   "id": "bb242ee6",
   "metadata": {},
   "outputs": [
    {
     "name": "stdout",
     "output_type": "stream",
     "text": [
      "The time module is not an IPython extension.\n"
     ]
    },
    {
     "data": {
      "application/javascript": [
       "IPython.notebook.set_autosave_interval(60000)"
      ]
     },
     "metadata": {},
     "output_type": "display_data"
    },
    {
     "name": "stdout",
     "output_type": "stream",
     "text": [
      "Autosaving every 60 seconds\n"
     ]
    },
    {
     "data": {
      "text/html": [
       "<style>.container { width:80% !important; }</style>"
      ],
      "text/plain": [
       "<IPython.core.display.HTML object>"
      ]
     },
     "metadata": {},
     "output_type": "display_data"
    }
   ],
   "source": [
    "%matplotlib inline\n",
    "%load_ext autoreload\n",
    "%load_ext time\n",
    "%autoreload 2\n",
    "%autosave 60\n",
    "\n",
    "display(HTML(\"<style>.container { width:80% !important; }</style>\"))"
   ]
  },
  {
   "cell_type": "code",
   "execution_count": 6,
   "id": "2844ade8",
   "metadata": {
    "lines_to_next_cell": 2
   },
   "outputs": [],
   "source": [
    "# load BASEDIR from file, change to your data root\n",
    "BASEDIR = load_basedir(fn=\"t4c22_config.json\", pkg=t4c22)"
   ]
  },
  {
   "cell_type": "markdown",
   "id": "7b85e00d",
   "metadata": {
    "lines_to_next_cell": 2
   },
   "source": [
    "## Data Inventory for Data Specification"
   ]
  },
  {
   "cell_type": "code",
   "execution_count": 7,
   "id": "a8f6cd33",
   "metadata": {},
   "outputs": [],
   "source": [
    "def print_inventory(fn):\n",
    "    print(\"\")\n",
    "    print(\"\")\n",
    "    print(f\"## `{fn.relative_to(BASEDIR)}`\")\n",
    "    print(\"\")\n",
    "    schema = pq.read_schema(fn, memory_map=True)\n",
    "    schema = [(name, str(pa_dtype)) for name, pa_dtype in zip(schema.names, schema.types)]\n",
    "\n",
    "    pf = ParquetFile(fn)\n",
    "    rows = next(pf.iter_batches(batch_size=1))\n",
    "    df = pa.Table.from_batches([rows]).to_pandas()\n",
    "    first_row = df.iloc[0]\n",
    "\n",
    "    print(\"| Attribute     | Example      | Data Type | Description |\")\n",
    "    print(\"|---------------|--------------|-----------|-------------|\")\n",
    "    for k, v in schema:\n",
    "        if k.startswith(\"__\"):\n",
    "            continue\n",
    "        print(f\"| {k} | {first_row[k]} | {v} |    |\")"
   ]
  },
  {
   "cell_type": "code",
   "execution_count": 8,
   "id": "bba269ff",
   "metadata": {},
   "outputs": [
    {
     "name": "stdout",
     "output_type": "stream",
     "text": [
      "\n",
      "\n",
      "## `train/london/input/counters_2019-07-01.parquet`\n",
      "\n",
      "| Attribute     | Example      | Data Type | Description |\n",
      "|---------------|--------------|-----------|-------------|\n",
      "| node_id | 101818 | int64 |    |\n",
      "| day | 2019-07-01 | string |    |\n",
      "| t | 4 | int64 |    |\n",
      "| volumes_1h | [nan nan nan nan] | list<item: double> |    |\n",
      "\n",
      "\n",
      "## `train/london/labels/cc_labels_2019-07-01.parquet`\n",
      "\n",
      "| Attribute     | Example      | Data Type | Description |\n",
      "|---------------|--------------|-----------|-------------|\n",
      "| u | 78112 | int64 |    |\n",
      "| v | 25508583 | int64 |    |\n",
      "| day | 2019-07-01 | string |    |\n",
      "| t | 9 | int64 |    |\n",
      "| cc | 2 | int64 |    |\n",
      "\n",
      "\n",
      "## `road_graph/london/cell_mapping.parquet`\n",
      "\n",
      "| Attribute     | Example      | Data Type | Description |\n",
      "|---------------|--------------|-----------|-------------|\n",
      "| u | 78112 | int64 |    |\n",
      "| v | 25508583 | int64 |    |\n",
      "| cells | [(172, 223, 2, 0.0), (173, 223, 2, 1.0), (173, 223, 3, 1.0), (172, 223, 3, 0.0)] | string |    |\n",
      "\n",
      "\n",
      "## `road_graph/london/road_graph_edges.parquet`\n",
      "\n",
      "| Attribute     | Example      | Data Type | Description |\n",
      "|---------------|--------------|-----------|-------------|\n",
      "| u | 78112 | int64 |    |\n",
      "| v | 25508583 | int64 |    |\n",
      "| parsed_maxspeed | 32.2 | double |    |\n",
      "| speed_kph | 32.2 | double |    |\n",
      "| importance | 0 | int64 |    |\n",
      "| highway | unclassified | string |    |\n",
      "| oneway | False | bool |    |\n",
      "| lanes |  | string |    |\n",
      "| tunnel |  | string |    |\n",
      "| length_meters | 19.402385843568535 | double |    |\n",
      "| counter_distance | 6 | int64 |    |\n",
      "\n",
      "\n",
      "## `road_graph/london/road_graph_nodes.parquet`\n",
      "\n",
      "| Attribute     | Example      | Data Type | Description |\n",
      "|---------------|--------------|-----------|-------------|\n",
      "| node_id | 78112 | int64 |    |\n",
      "| counter_info |  | string |    |\n",
      "| num_assigned |  | string |    |\n",
      "| x | -0.1457924 | double |    |\n",
      "| y | 51.526976 | double |    |\n",
      "\n",
      "\n",
      "## `loop_counter/london/counters_daily_by_node.parquet`\n",
      "\n",
      "| Attribute     | Example      | Data Type | Description |\n",
      "|---------------|--------------|-----------|-------------|\n",
      "| index | 0 | int64 |    |\n",
      "| node_id | 10028711 | int64 |    |\n",
      "| day | 2019-07-01 | string |    |\n",
      "| counter_info | ['17/116'] | list<item: string> |    |\n",
      "| num_assigned | ['1'] | list<item: string> |    |\n",
      "| volume | [ 56.  44.  40.  31.  28.  22.  24.  16.  15.  12.  20.  14.  15.  16.\n",
      "  22.  32.  42.  50.  76.  99. 121. 138. 174. 166. 199. 237. 273. 275.\n",
      " 292. 337. 331. 401. 378. 295. 254. 258. 278. 256. 227. 226. 220. 254.\n",
      " 251. 285. 305. 272. 265. 272. 280. 280. 280. 270. 271. 334. 326. 315.\n",
      " 253. 272. 284. 261. 247. 232. 262. 250. 281. 311. 268. 279. 275. 269.\n",
      " 233. 227. 156. 135. 168. 157. 134. 131. 130. 131. 134. 123. 121.  94.\n",
      "  93.  80.  96.  80.  70.  74.  57.  42.  39.  35.  36.  32.] | list<item: double> |    |\n",
      "\n",
      "\n",
      "## `speed_classes/london/speed_classes_2019-07-01.parquet`\n",
      "\n",
      "| Attribute     | Example      | Data Type | Description |\n",
      "|---------------|--------------|-----------|-------------|\n",
      "| u | 78112 | int64 |    |\n",
      "| v | 25508583 | int64 |    |\n",
      "| day | 2019-07-01 | string |    |\n",
      "| t | 9 | int64 |    |\n",
      "| volume_class | 3 | int64 |    |\n",
      "| median_speed_kph | 19.764705882352942 | double |    |\n",
      "| free_flow_kph | 36.352941176470594 | double |    |\n",
      "\n",
      "\n",
      "## `test/london/input/counters_test.parquet`\n",
      "\n",
      "| Attribute     | Example      | Data Type | Description |\n",
      "|---------------|--------------|-----------|-------------|\n",
      "| node_id | 101818 | int64 |    |\n",
      "| volumes_1h | [290. 284. 313. 311.] | list<item: double> |    |\n",
      "| test_idx | 0 | int64 |    |\n"
     ]
    }
   ],
   "source": [
    "for fn in BASEDIR.rglob(\"*.parquet\"):\n",
    "    if \"london\" not in str(fn):\n",
    "        continue\n",
    "    if re.search(\"[0-9]{4}-[0-9]{2}-[0-9]{2}\", str(fn)):\n",
    "        #         print(str(fn))\n",
    "        if \"2019-07-01\" not in str(fn):\n",
    "            continue\n",
    "    print_inventory(fn)"
   ]
  }
 ],
 "metadata": {
  "jupytext": {
   "encoding": "# -*- coding: utf-8 -*-",
   "text_representation": {
    "extension": ".py",
    "format_name": "light",
    "format_version": "1.5",
    "jupytext_version": "1.11.2"
   }
  },
  "kernelspec": {
   "display_name": "Python 3 (ipykernel)",
   "language": "python",
   "name": "python3"
  },
  "language_info": {
   "codemirror_mode": {
    "name": "ipython",
    "version": 3
   },
   "file_extension": ".py",
   "mimetype": "text/x-python",
   "name": "python",
   "nbconvert_exporter": "python",
   "pygments_lexer": "ipython3",
   "version": "3.10.4"
  }
 },
 "nbformat": 4,
 "nbformat_minor": 5
}
